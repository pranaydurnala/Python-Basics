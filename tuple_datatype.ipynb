{
  "nbformat": 4,
  "nbformat_minor": 0,
  "metadata": {
    "colab": {
      "provenance": [],
      "authorship_tag": "ABX9TyMkbeXeHhgN+fClAOxn53fN",
      "include_colab_link": true
    },
    "kernelspec": {
      "name": "python3",
      "display_name": "Python 3"
    },
    "language_info": {
      "name": "python"
    }
  },
  "cells": [
    {
      "cell_type": "markdown",
      "metadata": {
        "id": "view-in-github",
        "colab_type": "text"
      },
      "source": [
        "<a href=\"https://colab.research.google.com/github/pranaydurnala/Python-Basics/blob/main/tuple_datatype.ipynb\" target=\"_parent\"><img src=\"https://colab.research.google.com/assets/colab-badge.svg\" alt=\"Open In Colab\"/></a>"
      ]
    },
    {
      "cell_type": "code",
      "execution_count": null,
      "metadata": {
        "colab": {
          "base_uri": "https://localhost:8080/"
        },
        "id": "DPfgBjv3ppGv",
        "outputId": "7faf53a5-98df-4f6c-e0e6-71efe7b55978"
      },
      "outputs": [
        {
          "output_type": "execute_result",
          "data": {
            "text/plain": [
              "()"
            ]
          },
          "metadata": {},
          "execution_count": 1
        }
      ],
      "source": [
        "#empty tuple\n",
        "empty_tuple = ()\n",
        "empty_tuple"
      ]
    },
    {
      "cell_type": "code",
      "source": [
        "#creating tuples\n",
        "\n",
        "t1 = (\"apple\", \"banana\", \"cherry\")\n",
        "print(t1)\n",
        "\n",
        "t2 = (\"python\", \"java\", \"javascript\")\n",
        "print(t2)\n",
        "\n",
        "t3 = (\"hello\", \"world\")\n",
        "print(t3)\n",
        "\n",
        "t4 = (\"open\", \"high\", \"low\", \"close\")\n",
        "print(t4)\n",
        "\n",
        "t5 = (\"blue\", \"green\", \"red\", \"yellow\", \"purple\")\n",
        "print(t5)\n",
        "\n",
        "t6 = (\"cat\", \"dog\", \"rabbit\")\n",
        "print(t6)\n",
        "\n",
        "t7 = (\"alpha\", \"beta\", 15, 10)\n",
        "print(t7)\n",
        "\n",
        "t8 = (1,2,3,4,5)\n",
        "print(t8)\n",
        "\n",
        "t9 = (\"apple\", \"orange\", \"grape\", \"banana\")\n",
        "print(t9)\n",
        "\n",
        "t10 = (\"Monday\", \"Tuesday\", \"Wednesday\", \"Thursday\", \"Friday\")\n",
        "print(t10)\n"
      ],
      "metadata": {
        "colab": {
          "base_uri": "https://localhost:8080/"
        },
        "id": "_0bTakb4rcXv",
        "outputId": "09347ad9-53b9-4a91-b098-1c846e44baad"
      },
      "execution_count": null,
      "outputs": [
        {
          "output_type": "stream",
          "name": "stdout",
          "text": [
            "('apple', 'banana', 'cherry')\n",
            "('python', 'java', 'javascript')\n",
            "('hello', 'world')\n",
            "('open', 'high', 'low', 'close')\n",
            "('blue', 'green', 'red', 'yellow', 'purple')\n",
            "('cat', 'dog', 'rabbit')\n",
            "('alpha', 'beta', 15, 10)\n",
            "(1, 2, 3, 4, 5)\n",
            "('apple', 'orange', 'grape', 'banana')\n",
            "('Monday', 'Tuesday', 'Wednesday', 'Thursday', 'Friday')\n"
          ]
        }
      ]
    },
    {
      "cell_type": "code",
      "source": [
        "#index()\n",
        "\n",
        "t1 = (\"apple\", \"banana\", \"cherry\")\n",
        "print(t1[-1])\n",
        "\n",
        "t2 = (\"python\", \"java\", \"javascript\")\n",
        "print(t2[2])\n",
        "\n",
        "t3 = (\"hello\", \"world\")\n",
        "print(t3[0])\n",
        "\n",
        "t4 = (\"open\", \"high\", \"low\", \"close\")\n",
        "print(t4[1])\n",
        "\n",
        "t5 = (\"blue\", \"green\", \"red\", \"yellow\", \"purple\")\n",
        "print(t5[-3])\n",
        "\n",
        "t6 = (\"cat\", \"dog\", \"rabbit\")\n",
        "print(t6[0])\n",
        "\n",
        "t7 = (\"alpha\", \"beta\", 15, 10)\n",
        "print(t7[0])\n",
        "\n",
        "t8 = (1,2,3,4,5)\n",
        "print(t8[-1])\n",
        "\n",
        "t9 = (\"apple\", \"orange\", \"grape\", \"banana\")\n",
        "print(t9[-3])\n",
        "\n",
        "t10 = (\"Monday\", \"Tuesday\", \"Wednesday\", \"Thursday\", \"Friday\")\n",
        "print(t10[2])"
      ],
      "metadata": {
        "colab": {
          "base_uri": "https://localhost:8080/"
        },
        "id": "JUyNqjaLsDRI",
        "outputId": "f5df2ffd-7943-4483-8588-ab907df40f68"
      },
      "execution_count": null,
      "outputs": [
        {
          "output_type": "stream",
          "name": "stdout",
          "text": [
            "cherry\n",
            "javascript\n",
            "hello\n",
            "high\n",
            "red\n",
            "cat\n",
            "alpha\n",
            "5\n",
            "orange\n",
            "Wednesday\n"
          ]
        }
      ]
    },
    {
      "cell_type": "code",
      "source": [
        "#slicing\n",
        "\n",
        "t1 = (\"apple\", 2, \"banana\", 4, \"cherry\")\n",
        "print(t1[1:4])\n",
        "\n",
        "t2 = (\"python\", 3.7, \"java\", 11, \"javascript\")\n",
        "print(t2[2:])\n",
        "\n",
        "t3 = (\"hello\", \"world\")\n",
        "print(t3[0:1])\n",
        "\n",
        "t4 = (\"open\", 1.5, \"high\", 2.7, \"low\", 0.8, \"close\")\n",
        "print(t4[2:6])\n",
        "\n",
        "t5 = (\"blue\", 5, \"green\", 7, \"red\", 3, \"yellow\", 9, \"purple\")\n",
        "print(t5[3:7])\n",
        "\n",
        "t6 = (\"cat\", \"dog\", 1, \"rabbit\", 3)\n",
        "print(t6[2:3])\n",
        "\n",
        "t7 = (\"alpha\", 2, \"beta\", 4, \"gamma\", 6, \"delta\")\n",
        "print(t7[:2])\n",
        "\n",
        "t8 = (\"one\", 1, \"two\", 2, \"three\", 3, \"four\", 4, \"five\")\n",
        "print(t8[2:4])\n",
        "\n",
        "t9 = (\"apple\", \"orange\", 5, \"grape\", 7, \"banana\")\n",
        "print(t9[0:4])\n",
        "\n",
        "t10 = (\"Monday\", 1, \"Tuesday\", 2, \"Wednesday\", 3, \"Thursday\", 4, \"Friday\")\n",
        "print(t10[:2])\n"
      ],
      "metadata": {
        "colab": {
          "base_uri": "https://localhost:8080/"
        },
        "id": "lR9JD0FEs3eH",
        "outputId": "4307798f-bad5-498b-be99-a17c5a389e99"
      },
      "execution_count": null,
      "outputs": [
        {
          "output_type": "stream",
          "name": "stdout",
          "text": [
            "(2, 'banana', 4)\n",
            "('java', 11, 'javascript')\n",
            "('hello',)\n",
            "('high', 2.7, 'low', 0.8)\n",
            "(7, 'red', 3, 'yellow')\n",
            "('dog', 1, 'rabbit')\n",
            "('alpha', 2)\n",
            "('two', 2)\n",
            "('apple', 'orange', 5, 'grape')\n",
            "('Monday', 1)\n"
          ]
        }
      ]
    },
    {
      "cell_type": "code",
      "source": [
        "#count()\n",
        "t1 = (\"apple\", \"banana\", \"apple\", \"cherry\", \"apple\")\n",
        "count1 = t1.count(\"apple\")\n",
        "print(count1)\n",
        "\n",
        "t2 = (1, 2, 2, 3, 3, 3, 4, 4, 4, 4)\n",
        "count2 = t2.count(3)\n",
        "print(count2)\n",
        "\n",
        "t3 = (\"hello\", \"world\")\n",
        "count3 = t3.count(\"hello\")\n",
        "print(count3)\n",
        "\n",
        "t4 = (\"open\", \"high\", \"low\", \"close\", \"open\", \"open\")\n",
        "count4 = t4.count(\"open\")\n",
        "print(count4)\n",
        "\n",
        "t5 = (\"blue\", 1, \"green\", 2, \"red\", 3, \"yellow\", 1, \"purple\")\n",
        "count5 = t5.count(1)\n",
        "print(count5)\n",
        "\n",
        "t6 = (\"cat\", \"dog\", \"cat\", \"rabbit\", \"rabbit\")\n",
        "count6 = t6.count(\"rabbit\")\n",
        "print(count6)\n",
        "\n",
        "t7 = (\"alpha\", \"beta\", \"gamma\", \"delta\")\n",
        "count7 = t7.count(\"gamma\")\n",
        "print(count7)\n",
        "\n",
        "t8 = (\"one\", 1, \"two\", 2, \"three\", 3, \"four\", 4, \"one\")\n",
        "count8 = t8.count(\"one\")\n",
        "print(count8)\n",
        "\n",
        "t9 = (\"apple\", \"orange\", \"apple\", \"grape\", \"banana\")\n",
        "count9 = t9.count(\"apple\")\n",
        "print(count9)\n",
        "\n",
        "t10 = (\"Monday\", \"Tuesday\", \"Wednesday\", \"Thursday\", \"Friday\")\n",
        "count10 = t10.count(\"Monday\")\n",
        "print(count10)\n"
      ],
      "metadata": {
        "colab": {
          "base_uri": "https://localhost:8080/"
        },
        "id": "8wmtPv-PuJsd",
        "outputId": "6058bad4-f1fe-4312-d3eb-e0877db0e8a0"
      },
      "execution_count": null,
      "outputs": [
        {
          "output_type": "stream",
          "name": "stdout",
          "text": [
            "3\n",
            "3\n",
            "1\n",
            "3\n",
            "2\n",
            "2\n",
            "1\n",
            "2\n",
            "2\n",
            "1\n"
          ]
        }
      ]
    },
    {
      "cell_type": "code",
      "source": [
        "#len()\n",
        "t1 = (\"apple\", \"banana\", \"cherry\")\n",
        "length1 = len(t1)\n",
        "print(length1)\n",
        "\n",
        "t2 = (\"python\", 3.7, \"java\", 11, \"javascript\")\n",
        "length2 = len(t2)\n",
        "print(length2)\n",
        "\n",
        "t3 = (\"hello\", \"world\")\n",
        "length3 = len(t3)\n",
        "print(length3)\n",
        "\n",
        "t4 = (\"open\", 1.5, \"high\", 2.7, \"low\", 0.8, \"close\")\n",
        "length4 = len(t4)\n",
        "print(length4)\n",
        "\n",
        "t5 = (\"blue\", 5, \"green\", 7, \"red\", 3, \"yellow\", 9, \"purple\")\n",
        "length5 = len(t5)\n",
        "print(length5)\n",
        "\n",
        "t6 = (\"cat\", \"dog\", 1, \"rabbit\", 3)\n",
        "length6 = len(t6)\n",
        "print(length6)\n",
        "\n",
        "t7 = (\"alpha\", 2, \"beta\", 4, \"gamma\", 6, \"delta\")\n",
        "length7 = len(t7)\n",
        "print(length7)\n",
        "\n",
        "t8 = (\"one\", \"two\", 3, \"four\", 5)\n",
        "length8 = len(t8)\n",
        "print(length8)\n",
        "\n",
        "t9 = (\"apple\", \"orange\", 5, \"grape\", 7, \"banana\")\n",
        "length9 = len(t9)\n",
        "print(length9)\n",
        "\n",
        "t10 = (\"Monday\", 1, \"Tuesday\", 2, \"Wednesday\", 3, \"Thursday\", 4, \"Friday\")\n",
        "length10 = len(t10)\n",
        "print(length10)\n",
        "\n"
      ],
      "metadata": {
        "colab": {
          "base_uri": "https://localhost:8080/"
        },
        "id": "W7uI0WiVvB52",
        "outputId": "7896bcae-b363-4ad8-fbfd-92b096cb8c3e"
      },
      "execution_count": null,
      "outputs": [
        {
          "output_type": "stream",
          "name": "stdout",
          "text": [
            "3\n",
            "5\n",
            "2\n",
            "7\n",
            "9\n",
            "5\n",
            "7\n",
            "5\n",
            "6\n",
            "9\n"
          ]
        }
      ]
    },
    {
      "cell_type": "code",
      "source": [
        "#sorted()\n",
        "t1 = (\"apple\", \"banana\", \"cherry\")\n",
        "sorted_t1 = sorted(t1)\n",
        "print(sorted_t1)\n",
        "\n",
        "t2 = (\"python\", \"java\", \"javascript\")\n",
        "sorted_t2 = sorted(t2)\n",
        "print(sorted_t2)\n",
        "\n",
        "t3 = (\"hello\", \"world\")\n",
        "sorted_t3 = sorted(t3)\n",
        "print(sorted_t3)\n",
        "\n",
        "t4 = (\"open\", \"high\", \"low\", \"close\")\n",
        "sorted_t4 = sorted(t4)\n",
        "print(sorted_t4)\n",
        "\n",
        "t5 = (\"blue\", \"green\", \"red\", \"yellow\",\"purple\")\n",
        "sorted_t5 = sorted(t5)\n",
        "print(sorted_t5)\n",
        "\n",
        "t6 = (\"cat\", \"dog\", \"rabbit\",)\n",
        "sorted_t6 = sorted(t6)\n",
        "print(sorted_t6)\n",
        "\n",
        "t7 = (\"alpha\", \"beta\", \"gamma\", \"delta\")\n",
        "sorted_t7 = sorted(t7)\n",
        "print(sorted_t7)\n",
        "\n",
        "t8 = (\"one\", \"two\", \"four\")\n",
        "sorted_t8 = sorted(t8)\n",
        "print(sorted_t8)\n",
        "\n",
        "t9 = (\"apple\", \"orange\", \"grape\", \"banana\")\n",
        "sorted_t9 = sorted(t9)\n",
        "print(sorted_t9)\n",
        "\n",
        "t10 = (\"Monday\", \"Tuesday\", \"Wednesday\", \"Thursday\", \"Friday\")\n",
        "sorted_t10 = sorted(t10)\n",
        "print(sorted_t10)"
      ],
      "metadata": {
        "colab": {
          "base_uri": "https://localhost:8080/"
        },
        "id": "W7CJJSZXv4kQ",
        "outputId": "691c8535-7d3b-46e6-9c8c-e4d481898289"
      },
      "execution_count": null,
      "outputs": [
        {
          "output_type": "stream",
          "name": "stdout",
          "text": [
            "['apple', 'banana', 'cherry']\n",
            "['java', 'javascript', 'python']\n",
            "['hello', 'world']\n",
            "['close', 'high', 'low', 'open']\n",
            "['blue', 'green', 'purple', 'red', 'yellow']\n",
            "['cat', 'dog', 'rabbit']\n",
            "['alpha', 'beta', 'delta', 'gamma']\n",
            "['four', 'one', 'two']\n",
            "['apple', 'banana', 'grape', 'orange']\n",
            "['Friday', 'Monday', 'Thursday', 'Tuesday', 'Wednesday']\n"
          ]
        }
      ]
    },
    {
      "cell_type": "code",
      "source": [
        "# delete (del)\n",
        "t1 = (\"apple\", \"banana\", \"cherry\")\n",
        "print(t1)\n",
        "\n",
        "t2 = (\"python\", \"java\", \"javascript\")\n",
        "print(t2)\n",
        "\n",
        "t3 = (\"hello\", \"world\")\n",
        "del t3\n",
        "\n",
        "t4 = (\"open\", \"high\", \"low\", \"close\")\n",
        "del t4\n",
        "\n",
        "t5 = (\"blue\", \"green\", \"red\", \"yellow\", \"purple\")\n",
        "del t5"
      ],
      "metadata": {
        "colab": {
          "base_uri": "https://localhost:8080/"
        },
        "id": "6_yM9ldyyLg_",
        "outputId": "6c0f0e73-4aab-49a5-8828-6aa18f4a0047"
      },
      "execution_count": null,
      "outputs": [
        {
          "output_type": "stream",
          "name": "stdout",
          "text": [
            "('apple', 'banana', 'cherry')\n",
            "('python', 'java', 'javascript')\n"
          ]
        }
      ]
    },
    {
      "cell_type": "code",
      "source": [
        "#min()\n",
        "t1 = (\"apple\", \"banana\", \"cherry\")\n",
        "print(min(t1))\n",
        "\n",
        "t2 = (100,388,988,253,61,78,26,12,24,13,7,3,4,)\n",
        "print(min(t2))\n",
        "\n",
        "t3 = (-7,89,-2,-10,90,34,18)\n",
        "print(min(t3))\n",
        "\n",
        "t4 = (\"open\", \"high\", \"low\", \"close\")\n",
        "print(min(t4))\n",
        "\n",
        "t5 = (89,89,299,288,38,209,280)\n",
        "print(min(t5))\n",
        "\n",
        "t6 = (80,30,500,890,273,26,2)\n",
        "print(min(t6))\n",
        "\n",
        "t8 = (1,2,3,4,5)\n",
        "print(min(t8))\n",
        "\n",
        "t9 = (\"apple\", \"orange\", \"grape\", \"banana\")\n",
        "print(min(t9))\n",
        "\n",
        "t10 = (\"Monday\", \"Tuesday\", \"Wednesday\", \"Thursday\", \"Friday\")\n",
        "print(min(t10))"
      ],
      "metadata": {
        "colab": {
          "base_uri": "https://localhost:8080/"
        },
        "id": "sALfpRXsHR3i",
        "outputId": "1e9b49e1-dca8-4ba5-8b27-dc59e0c1fadf"
      },
      "execution_count": 3,
      "outputs": [
        {
          "output_type": "stream",
          "name": "stdout",
          "text": [
            "apple\n",
            "3\n",
            "-10\n",
            "close\n",
            "38\n",
            "2\n",
            "1\n",
            "apple\n",
            "Friday\n"
          ]
        }
      ]
    },
    {
      "cell_type": "code",
      "source": [
        "#max()\n",
        "\n",
        "t1 = (\"apple\", \"banana\", \"cherry\")\n",
        "print(max(t1))\n",
        "\n",
        "t2 = (100,388,988,253,61,78,26,12,24,13,7,3,4,)\n",
        "print(max(t2))\n",
        "\n",
        "t3 = (-7,89,-2,-10,90,34,18)\n",
        "print(max(t3))\n",
        "\n",
        "t4 = (\"open\", \"high\", \"low\", \"close\")\n",
        "print(max(t4))\n",
        "\n",
        "t5 = (89,89,299,288,38,209,280)\n",
        "print(max(t5))\n",
        "\n",
        "t6 = (80,30,500,890,273,26,2)\n",
        "print(max(t6))\n",
        "\n",
        "t8 = (1,2,3,4,5)\n",
        "print(max(t8))\n",
        "\n",
        "t9 = (\"apple\", \"orange\", \"grape\", \"banana\")\n",
        "print(max(t9))\n",
        "\n",
        "t10 = (\"Monday\", \"Tuesday\", \"Wednesday\", \"Thursday\", \"Friday\")\n",
        "print(max(t10))"
      ],
      "metadata": {
        "colab": {
          "base_uri": "https://localhost:8080/"
        },
        "id": "Q0US6CxWJOWO",
        "outputId": "3bc6dbb2-d380-4846-fc23-1930c248a9b8"
      },
      "execution_count": 4,
      "outputs": [
        {
          "output_type": "stream",
          "name": "stdout",
          "text": [
            "cherry\n",
            "988\n",
            "90\n",
            "open\n",
            "299\n",
            "890\n",
            "5\n",
            "orange\n",
            "Wednesday\n"
          ]
        }
      ]
    },
    {
      "cell_type": "code",
      "source": [],
      "metadata": {
        "id": "aAtJxRDy1OEE"
      },
      "execution_count": null,
      "outputs": []
    }
  ]
}