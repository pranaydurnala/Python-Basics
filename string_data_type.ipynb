{
  "nbformat": 4,
  "nbformat_minor": 0,
  "metadata": {
    "colab": {
      "provenance": [],
      "authorship_tag": "ABX9TyMUvH+N48/S7Z+mDjP3Vjd/",
      "include_colab_link": true
    },
    "kernelspec": {
      "name": "python3",
      "display_name": "Python 3"
    },
    "language_info": {
      "name": "python"
    }
  },
  "cells": [
    {
      "cell_type": "markdown",
      "metadata": {
        "id": "view-in-github",
        "colab_type": "text"
      },
      "source": [
        "<a href=\"https://colab.research.google.com/github/pranaydurnala/Python-Basics/blob/main/string_data_type.ipynb\" target=\"_parent\"><img src=\"https://colab.research.google.com/assets/colab-badge.svg\" alt=\"Open In Colab\"/></a>"
      ]
    },
    {
      "cell_type": "code",
      "execution_count": 1,
      "metadata": {
        "colab": {
          "base_uri": "https://localhost:8080/"
        },
        "id": "DzII4LoRii8m",
        "outputId": "e432eb6c-394b-4490-e4c8-6ec093384100"
      },
      "outputs": [
        {
          "output_type": "stream",
          "name": "stdout",
          "text": [
            "iam pranay kumar durnala from warangal\n"
          ]
        }
      ],
      "source": [
        "#string\n",
        "name = \"iam pranay kumar durnala from warangal\"\n",
        "print(name)"
      ]
    },
    {
      "cell_type": "code",
      "source": [
        "#concatination\n",
        "\n",
        "firstname = \"pranay\"\n",
        "middlename = \"kumar\"\n",
        "lastname = \"durnala\"\n",
        "fullname = firstname + \" \" + middlename + \" \" + lastname\n",
        "print(fullname)\n",
        "\n",
        "str1 = \"iam\"\n",
        "str2 = \"pranaykumar\"\n",
        "full_str = str1 + \" \" + str2\n",
        "print(full_str)\n",
        "\n",
        "sen1 = \"i have joined in\"\n",
        "sen2 = \"teks academy\"\n",
        "complete_sen = sen1 + ' ' + sen2\n",
        "print(complete_sen)\n"
      ],
      "metadata": {
        "colab": {
          "base_uri": "https://localhost:8080/"
        },
        "id": "o_3xxeFIitWt",
        "outputId": "f403b19b-9036-422a-f833-c8969426ed8a"
      },
      "execution_count": 17,
      "outputs": [
        {
          "output_type": "stream",
          "name": "stdout",
          "text": [
            "pranay kumar durnala\n",
            "iam pranaykumar\n",
            "i have joined in teks academy\n"
          ]
        }
      ]
    },
    {
      "cell_type": "code",
      "source": [
        "#repetation\n",
        "\n",
        "firstname = \"pranay\"\n",
        "middlename = \"kumar\"\n",
        "lastname = \"durnala,\"\n",
        "fullname = firstname + \" \" + middlename + \" \" + lastname\n",
        "print(fullname * 2)\n",
        "\n",
        "str1 = \"iam\"\n",
        "str2 = \"pranay kumar,\"\n",
        "full_str = str1 + \" \" + str2\n",
        "print(full_str * 3)\n",
        "\n",
        "sen1 = \"i have joined in\"\n",
        "sen2 = \"teks academy,\"\n",
        "complete_sen = sen1 + ' ' + sen2\n",
        "print(complete_sen * 4)\n"
      ],
      "metadata": {
        "colab": {
          "base_uri": "https://localhost:8080/"
        },
        "id": "mWC0vgMijoUT",
        "outputId": "c3db4347-f3b2-46fc-a1d8-30eef38a79bb"
      },
      "execution_count": 21,
      "outputs": [
        {
          "output_type": "stream",
          "name": "stdout",
          "text": [
            "pranay kumar durnala,pranay kumar durnala,\n",
            "iam pranay kumar,iam pranay kumar,iam pranay kumar,\n",
            "i have joined in teks academy,i have joined in teks academy,i have joined in teks academy,i have joined in teks academy,\n"
          ]
        }
      ]
    },
    {
      "cell_type": "code",
      "source": [
        "#indexing\n",
        "\n",
        "work = \"iam working at teks academy\"\n",
        "print(work[15])\n",
        "\n",
        "address = \"im living in hyderabad\"\n",
        "print(address[20])\n",
        "\n",
        "name = \"durnala pranay kumar\"\n",
        "print(name[5])\n",
        "\n",
        "mothersname = \"durnala madhavi\"\n",
        "print(mothersname[5])\n",
        "\n",
        "brothers_name = \"durnala nandha kumar\"\n",
        "print(brothers_name[7])"
      ],
      "metadata": {
        "colab": {
          "base_uri": "https://localhost:8080/"
        },
        "id": "VgvgJihinFzc",
        "outputId": "a9f877fc-76b6-4381-8c6f-018881a27442"
      },
      "execution_count": 8,
      "outputs": [
        {
          "output_type": "stream",
          "name": "stdout",
          "text": [
            "t\n",
            "a\n",
            "l\n",
            "l\n",
            " \n"
          ]
        }
      ]
    },
    {
      "cell_type": "code",
      "source": [
        "#slicing\n",
        "hobbies = \"i love spending time with my family\"\n",
        "print(hobbies[5:10])\n",
        "\n",
        "favoritesport = \"i love playing cricket\"\n",
        "print(favoritesport[4:])\n",
        "\n",
        "aim = \"my aim is to secure a good job in a reputated mnc\"\n",
        "print(aim[:-7])\n",
        "\n",
        "str4 = \"19027,82930190,28903\"\n",
        "print(str4[:15])\n",
        "\n",
        "str5 = \"iuhensjJosnonsuhd\"\n",
        "print(str5[0:])\n"
      ],
      "metadata": {
        "colab": {
          "base_uri": "https://localhost:8080/"
        },
        "id": "DfxgyDtcvttb",
        "outputId": "da8a3f56-76d8-466c-9696-068698bd5884"
      },
      "execution_count": 13,
      "outputs": [
        {
          "output_type": "stream",
          "name": "stdout",
          "text": [
            "e spe\n",
            "ve playing cricket\n",
            "my aim is to secure a good job in a reputa\n",
            "19027,82930190,\n",
            "iuhensjJosnonsuhd\n"
          ]
        }
      ]
    },
    {
      "cell_type": "code",
      "source": [
        "#formatting string\n",
        "school = \"greenwood high school\"\n",
        "passout_year = 2018\n",
        "formatted_string = \"i have completed my schooling in %s in the year %d.\"%(school,passout_year)\n",
        "print(formatted_string)\n",
        "\n",
        "academy = \"teksacademy\"\n",
        "days = 20\n",
        "formatted_string = \"i have joined %s %d days ago.\"%(academy,days)\n",
        "print(formatted_string)\n",
        "\n",
        "#2format string\n",
        "school = \"greenwood high school\"\n",
        "passout_year = 2018\n",
        "formatted_string = \"i have completed my schooling in {} in the year {}.\".format(school,passout_year)\n",
        "print(formatted_string)\n",
        "\n",
        "academy = \"teksacademy\"\n",
        "days = 20\n",
        "formatted_string = \"i have joined {} {}days ago.\".format(academy,days)\n",
        "print(formatted_string)\n",
        "\n",
        "#3 format string (f-string)\n",
        "school = \"greenwood high school\"\n",
        "passout_year = 2018\n",
        "formatted_string = f\"i have completed my schooling in {school} in the year {passout_year}.\"\n",
        "print(formatted_string)\n",
        "\n",
        "academy = \"teksacademy\"\n",
        "days = 20\n",
        "formatted_string = f\"i have joined {academy} {days} days ago.\""
      ],
      "metadata": {
        "colab": {
          "base_uri": "https://localhost:8080/"
        },
        "id": "G-LHMaYlxoUx",
        "outputId": "11a3eb95-9dee-4683-81a3-2ba4c043aa9f"
      },
      "execution_count": 27,
      "outputs": [
        {
          "output_type": "stream",
          "name": "stdout",
          "text": [
            "i have completed my schooling in greenwood high school in the year 2018.\n",
            "i have joined teksacademy 20 days ago.\n",
            "i have completed my schooling in greenwood high school in the year 2018.\n",
            "i have joined teksacademy 20days ago.\n",
            "i have completed my schooling in greenwood high school in the year 2018.\n"
          ]
        }
      ]
    },
    {
      "cell_type": "code",
      "source": [
        "#len()\n",
        "hobbies = \"i love spending time with my family\"\n",
        "hobbies_length = len(hobbies)\n",
        "print(hobbies_length)\n",
        "\n",
        "favoritesport = \"i love playing cricket\"\n",
        "favoritesport_len = len(favoritesport)\n",
        "print(favoritesport_len)\n",
        "\n",
        "aim = \"my aim is to secure a good job in a reputated mnc\"\n",
        "aim_length = len(aim)\n",
        "print(aim_length)\n",
        "\n",
        "str4 = \"19027,82930190,28903\"\n",
        "str4_len = len(str4)\n",
        "print(str4_len)\n",
        "\n",
        "str5 = \"iuhensjJosnonsuhd\"\n",
        "str5_len = len(str5)\n",
        "print(str5_len)\n"
      ],
      "metadata": {
        "colab": {
          "base_uri": "https://localhost:8080/"
        },
        "id": "JGZguA6uBQTd",
        "outputId": "070fa34e-a0fa-462a-dc86-5bea56f8a8b1"
      },
      "execution_count": 34,
      "outputs": [
        {
          "output_type": "stream",
          "name": "stdout",
          "text": [
            "35\n",
            "22\n",
            "49\n",
            "20\n",
            "17\n"
          ]
        }
      ]
    },
    {
      "cell_type": "code",
      "source": [
        "#upper() and lower()\n",
        "living = \"i have been living in warangal since 15 years\"\n",
        "place = living.upper()\n",
        "print(place)\n",
        "\n",
        "fathers_occupation = \"my father works in an marketing company as a general manager\"\n",
        "occupation = fathers_occupation.upper()\n",
        "print(occupation)\n",
        "\n",
        "mothers_occupation = \"she is a home maker\"\n",
        "occupation = mothers_occupation.upper()\n",
        "print(occupation)\n",
        "\n",
        "intermediate = \"I HAVE COMPLETED MY 12TH CLASS IN ALPHORES JUNIOR COLLEGE\"\n",
        "twelth_class = intermediate.lower()\n",
        "print(twelth_class)\n",
        "\n",
        "\n",
        "brothers_degree = \"MY BROTHER IS STUDYING IN KAKATIYA INSTITUTE OF TECHNOLOGY AND SCIENCE\"\n",
        "degree = brothers_degree.lower()\n",
        "print(degree)"
      ],
      "metadata": {
        "colab": {
          "base_uri": "https://localhost:8080/"
        },
        "id": "Kp2A-Y9VHVfl",
        "outputId": "d1f52105-b143-44ab-ca72-43b9410b674a"
      },
      "execution_count": 42,
      "outputs": [
        {
          "output_type": "stream",
          "name": "stdout",
          "text": [
            "I HAVE BEEN LIVING IN WARANGAL SINCE 15 YEARS\n",
            "MY FATHER WORKS IN AN MARKETING COMPANY AS A GENERAL MANAGER\n",
            "SHE IS A HOME MAKER\n",
            "i have completed my 12th class in alphores junior college\n",
            "i have completed my btech in vaagdevi college of engineering\n",
            "my brother is studying in kakatiya institute of technology and science\n"
          ]
        }
      ]
    },
    {
      "cell_type": "code",
      "source": [
        "#strip\n",
        "\n",
        "hobbies = \"       i love spending time with my family       \"\n",
        "hobbies_strip = hobbies.strip()\n",
        "print(hobbies_strip)\n",
        "\n",
        "fathers_occupation = \"        my father works in an marketing company as a general manager         \"\n",
        "occupation = fathers_occupation.strip()\n",
        "print(occupation)\n",
        "\n",
        "intermediate = \"       I HAVE COMPLETED MY 12TH CLASS IN ALPHORES JUNIOR COLLEGE       \"\n",
        "twelth_class = intermediate.strip()\n",
        "print(twelth_class)\n",
        "\n",
        "#rstrip(deletes rightside spaces)\n",
        "\n",
        "intermediate = \"       I HAVE COMPLETED MY 12TH CLASS IN ALPHORES JUNIOR COLLEGE       \"\n",
        "twelth_class = intermediate.rstrip()\n",
        "print(twelth_class)\n",
        "\n",
        "favoritesport = \"      i love playing cricket       \"\n",
        "favoritesport_len = favoritesport.rstrip()\n",
        "print(favoritesport_len)\n",
        "\n",
        "aim = \"       my aim is to secure a good job in a reputated mnc       \"\n",
        "aim_length = aim.rstrip()\n",
        "print(aim_length)\n",
        "\n",
        "\n",
        "#lstrip (deletes leftside spaces)\n",
        "\n",
        "str4 = \"       19027,82930190,28903          \"\n",
        "str4_len = str4.lstrip()\n",
        "print(str4_len)\n",
        "\n",
        "hobbies = \"       i love spending time with my family         \"\n",
        "habits = hobbies.lstrip()\n",
        "print(habits)\n",
        "\n",
        "brothers_degree = \"        MY BROTHER IS STUDYING IN KAKATIYA INSTITUTE OF TECHNOLOGY AND SCIENCE             \"\n",
        "degree = brothers_degree.lstrip()\n",
        "print(degree)"
      ],
      "metadata": {
        "colab": {
          "base_uri": "https://localhost:8080/"
        },
        "id": "JL74tQDdLpmN",
        "outputId": "00fdc341-097b-4b3d-de4a-8b3afde5b637"
      },
      "execution_count": 57,
      "outputs": [
        {
          "output_type": "stream",
          "name": "stdout",
          "text": [
            "i love spending time with my family\n",
            "my father works in an marketing company as a general manager\n",
            "I HAVE COMPLETED MY 12TH CLASS IN ALPHORES JUNIOR COLLEGE\n",
            "       I HAVE COMPLETED MY 12TH CLASS IN ALPHORES JUNIOR COLLEGE\n",
            "      i love playing cricket\n",
            "       my aim is to secure a good job in a reputated mnc\n",
            "19027,82930190,28903          \n",
            "i love spending time with my family         \n",
            "MY BROTHER IS STUDYING IN KAKATIYA INSTITUTE OF TECHNOLOGY AND SCIENCE             \n"
          ]
        }
      ]
    },
    {
      "cell_type": "code",
      "source": [
        "#replace\n",
        "\n",
        "City = \"I am in united states of america\"\n",
        "print(City.replace(\"united states of america\",\"Hydearabad\"))\n",
        "\n",
        "skills = \"I have good idea on Python and SQL\"\n",
        "print(skills.replace(\"idea on\",\"knowledge in\"))\n",
        "\n",
        "about_life = \"my life is full of happiness\"\n",
        "print(about_life.replace(\"happiness\",\"sadness\"))\n",
        "\n",
        "travel = \"i travel by car\"\n",
        "print(travel.replace(\"car\",\"bike\"))\n",
        "\n",
        "task = \"im walking\"\n",
        "print(task.replace(\"walking\",\"running\"))"
      ],
      "metadata": {
        "colab": {
          "base_uri": "https://localhost:8080/"
        },
        "id": "V31q2YE_X4Pg",
        "outputId": "d95a1a24-8d09-46df-ed07-3c7284a8c9a4"
      },
      "execution_count": 63,
      "outputs": [
        {
          "output_type": "stream",
          "name": "stdout",
          "text": [
            "I am in Hydearabad\n",
            "I have good knowledge in Python and SQL\n",
            "my life is full of sadness\n",
            "i travel by bike\n",
            "im running\n"
          ]
        }
      ]
    },
    {
      "cell_type": "code",
      "source": [
        "#split\n",
        "\n",
        "living = \"i have been living in warangal since 15 years\"\n",
        "place = living.split()\n",
        "print(place)\n",
        "\n",
        "fathers_occupation = \"my father works in an marketing company as a general manager\"\n",
        "occupation = fathers_occupation.split()\n",
        "print(occupation)\n",
        "\n",
        "mothers_occupation = \"she is a home maker\"\n",
        "occupation = mothers_occupation.split()\n",
        "print(occupation)\n",
        "\n",
        "intermediate = \"I HAVE COMPLETED MY 12TH CLASS IN ALPHORES JUNIOR COLLEGE\"\n",
        "twelth_class = intermediate.split()\n",
        "print(twelth_class)\n",
        "\n",
        "\n",
        "brothers_degree = \"MY BROTHER IS STUDYING IN KAKATIYA INSTITUTE OF TECHNOLOGY AND SCIENCE\"\n",
        "degree = brothers_degree.split()\n",
        "print(degree)"
      ],
      "metadata": {
        "colab": {
          "base_uri": "https://localhost:8080/"
        },
        "id": "TMhWkkp6cXQu",
        "outputId": "76d60c56-0100-4785-896a-0c235ccf18f7"
      },
      "execution_count": 65,
      "outputs": [
        {
          "output_type": "stream",
          "name": "stdout",
          "text": [
            "['i', 'have', 'been', 'living', 'in', 'warangal', 'since', '15', 'years']\n",
            "['my', 'father', 'works', 'in', 'an', 'marketing', 'company', 'as', 'a', 'general', 'manager']\n",
            "['she', 'is', 'a', 'home', 'maker']\n",
            "['I', 'HAVE', 'COMPLETED', 'MY', '12TH', 'CLASS', 'IN', 'ALPHORES', 'JUNIOR', 'COLLEGE']\n",
            "['MY', 'BROTHER', 'IS', 'STUDYING', 'IN', 'KAKATIYA', 'INSTITUTE', 'OF', 'TECHNOLOGY', 'AND', 'SCIENCE']\n"
          ]
        }
      ]
    },
    {
      "cell_type": "code",
      "source": [
        "#join()\n",
        "\n",
        "about = ['Life', 'has', 'no', 'Cntrl+Z']\n",
        "join_str = \" \".join(about)\n",
        "print(join_str)\n",
        "\n",
        "location = ['I', 'have', 'been', 'living', 'in', 'Hanamkonda', 'for', '22', 'years']\n",
        "print(' '.join(location))\n",
        "\n",
        "living = ['i', 'have', 'been', 'living', 'in', 'warangal', 'since', '15', 'years']\n",
        "print(' '.join(living))\n",
        "\n",
        "fathers_occupation = ['my', 'father', 'works', 'in', 'an', 'marketing', 'company', 'as', 'a', 'general', 'manager']\n",
        "print(' '.join(fathers_occupation))\n",
        "\n",
        "mothers_occupation = ['she', 'is', 'a', 'home', 'maker']\n",
        "print(\" \".join(mothers_occupation))\n"
      ],
      "metadata": {
        "colab": {
          "base_uri": "https://localhost:8080/"
        },
        "id": "Xh-6_ApBfuQF",
        "outputId": "4622623f-55bc-4740-aebf-4d004c01fa66"
      },
      "execution_count": 66,
      "outputs": [
        {
          "output_type": "stream",
          "name": "stdout",
          "text": [
            "Life has no Cntrl+Z\n",
            "I have been living in Hanamkonda for 22 years\n",
            "i have been living in warangal since 15 years\n",
            "my father works in an marketing company as a general manager\n",
            "she is a home maker\n"
          ]
        }
      ]
    },
    {
      "cell_type": "code",
      "source": [
        "#center()\n",
        "work = \"iam working at teks academy\"\n",
        "print(work.center(50))\n",
        "\n",
        "address = \"im living in hyderabad\"\n",
        "print(address.center(80))\n",
        "\n",
        "name = \"durnala pranay kumar\"\n",
        "print(name.center(100))\n",
        "\n",
        "mothersname = \"durnala madhavi\"\n",
        "print(mothersname.center(140))\n",
        "\n",
        "brothers_name = \"durnala nandha kumar\"\n",
        "print(brothers_name.center(180))\n"
      ],
      "metadata": {
        "colab": {
          "base_uri": "https://localhost:8080/"
        },
        "id": "MhWspwt4gj4F",
        "outputId": "3e3d21a1-bc41-407d-b6a4-5b502c7d1551"
      },
      "execution_count": 71,
      "outputs": [
        {
          "output_type": "stream",
          "name": "stdout",
          "text": [
            "           iam working at teks academy            \n",
            "                             im living in hyderabad                             \n",
            "                                        durnala pranay kumar                                        \n",
            "                                                              durnala madhavi                                                               \n",
            "                                                                                durnala nandha kumar                                                                                \n"
          ]
        }
      ]
    },
    {
      "cell_type": "code",
      "source": [
        "#capitalize()\n",
        "name = \"durnala pranay kumar\"\n",
        "print(name.capitalize())\n",
        "\n",
        "proper = \"warangal\"\n",
        "print(proper.capitalize())\n",
        "\n",
        "favoriteplace = \"myhome\"\n",
        "print(favoriteplace.capitalize())\n"
      ],
      "metadata": {
        "colab": {
          "base_uri": "https://localhost:8080/"
        },
        "id": "-U4fiQgViQ4i",
        "outputId": "5b6f3054-89cf-4598-b640-dd0353305f7e"
      },
      "execution_count": 76,
      "outputs": [
        {
          "output_type": "stream",
          "name": "stdout",
          "text": [
            "Durnala pranay kumar\n",
            "Warangal\n",
            "Myhome\n"
          ]
        }
      ]
    },
    {
      "cell_type": "code",
      "source": [
        "#ljust\n",
        "txt = \"banana\"\n",
        "x = (txt.ljust(20))\n",
        "print(x, \"is my favorite fruit.\")"
      ],
      "metadata": {
        "colab": {
          "base_uri": "https://localhost:8080/"
        },
        "id": "DXZo0FG1kNUu",
        "outputId": "0e239476-fb5d-49ed-90c2-60ad65a0eb27"
      },
      "execution_count": 77,
      "outputs": [
        {
          "output_type": "stream",
          "name": "stdout",
          "text": [
            "banana               is my favorite fruit.\n"
          ]
        }
      ]
    },
    {
      "cell_type": "code",
      "source": [
        "#swapcase()\n",
        "name = \"im DURnala PRANay KUMAR AND im froM waraNGAl\"\n",
        "print(name.swapcase())"
      ],
      "metadata": {
        "colab": {
          "base_uri": "https://localhost:8080/"
        },
        "id": "t9dedziBkuSF",
        "outputId": "d6fb8234-ce52-438d-8d58-52e09c554b20"
      },
      "execution_count": 78,
      "outputs": [
        {
          "output_type": "stream",
          "name": "stdout",
          "text": [
            "IM durNALA pranAY kumar and IM FROm WARAngaL\n"
          ]
        }
      ]
    },
    {
      "cell_type": "code",
      "source": [
        "#title()\n",
        "text = \"welcome to my world\"\n",
        "print(text.title())"
      ],
      "metadata": {
        "colab": {
          "base_uri": "https://localhost:8080/"
        },
        "id": "yK1lds-1ln4P",
        "outputId": "aa48e003-38d5-4270-8265-de6f70cf0589"
      },
      "execution_count": 80,
      "outputs": [
        {
          "output_type": "stream",
          "name": "stdout",
          "text": [
            "Welcome To My World\n"
          ]
        }
      ]
    },
    {
      "cell_type": "code",
      "source": [
        "#zfill\n",
        "name = \"pranay kumar\"\n",
        "print(name.zfill(20))"
      ],
      "metadata": {
        "colab": {
          "base_uri": "https://localhost:8080/"
        },
        "id": "tRPbS28rmHm8",
        "outputId": "5449852e-df67-4ff1-9442-08ac354f20cd"
      },
      "execution_count": 83,
      "outputs": [
        {
          "output_type": "stream",
          "name": "stdout",
          "text": [
            "00000000pranay kumar\n"
          ]
        }
      ]
    },
    {
      "cell_type": "code",
      "source": [
        "#rindex\n",
        "name = \"im DURnala PRANay KUMAR AND im froM waraNGAl\"\n",
        "print(name.rindex(\"waraNGAl\"))"
      ],
      "metadata": {
        "colab": {
          "base_uri": "https://localhost:8080/"
        },
        "id": "Bti5k6Ebmm_Y",
        "outputId": "d164f86c-8bf5-4224-8ff9-944cb3fb10b0"
      },
      "execution_count": 88,
      "outputs": [
        {
          "output_type": "stream",
          "name": "stdout",
          "text": [
            "36\n"
          ]
        }
      ]
    },
    {
      "cell_type": "code",
      "source": [
        "#rpartition()\n",
        "txt = \"I could eat bananas all day, bananas are my favorite fruit\"\n",
        "print(txt.rpartition(\"are\"))\n"
      ],
      "metadata": {
        "colab": {
          "base_uri": "https://localhost:8080/"
        },
        "id": "ext-xBG-nVdu",
        "outputId": "678e662f-f734-4cfb-868d-0d2e5807ba22"
      },
      "execution_count": 90,
      "outputs": [
        {
          "output_type": "stream",
          "name": "stdout",
          "text": [
            "('I could eat bananas all day, bananas ', 'are', ' my favorite fruit')\n"
          ]
        }
      ]
    },
    {
      "cell_type": "code",
      "source": [],
      "metadata": {
        "id": "UZwc_92XnhxG"
      },
      "execution_count": null,
      "outputs": []
    }
  ]
}