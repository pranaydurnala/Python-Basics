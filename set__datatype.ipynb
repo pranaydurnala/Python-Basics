{
  "nbformat": 4,
  "nbformat_minor": 0,
  "metadata": {
    "colab": {
      "provenance": [],
      "authorship_tag": "ABX9TyPI5TvySDjeOwfTbQOrHV/d",
      "include_colab_link": true
    },
    "kernelspec": {
      "name": "python3",
      "display_name": "Python 3"
    },
    "language_info": {
      "name": "python"
    }
  },
  "cells": [
    {
      "cell_type": "markdown",
      "metadata": {
        "id": "view-in-github",
        "colab_type": "text"
      },
      "source": [
        "<a href=\"https://colab.research.google.com/github/pranaydurnala/Python-Basics/blob/main/set__datatype.ipynb\" target=\"_parent\"><img src=\"https://colab.research.google.com/assets/colab-badge.svg\" alt=\"Open In Colab\"/></a>"
      ]
    },
    {
      "cell_type": "code",
      "execution_count": 2,
      "metadata": {
        "colab": {
          "base_uri": "https://localhost:8080/"
        },
        "id": "RdaVg_PRTtKW",
        "outputId": "8749a9ba-8ca7-4068-998f-917039b7b2f3"
      },
      "outputs": [
        {
          "output_type": "execute_result",
          "data": {
            "text/plain": [
              "set()"
            ]
          },
          "metadata": {},
          "execution_count": 2
        }
      ],
      "source": [
        "#sets()\n",
        "emp_set = set()\n",
        "emp_set"
      ]
    },
    {
      "cell_type": "code",
      "source": [
        "#sets\n",
        "fruits = {\"apple\",\"banana\"}\n",
        "print(fruits)\n",
        "\n",
        "names = {\"pranay\",\"vinay\"}\n",
        "print(names)\n",
        "\n",
        "institutes = {\"teks academy\",\"qspiders\",\"jspiders\"}\n",
        "print(institutes)\n",
        "\n",
        "languages = {\"python\",\"java\",\"c\"}\n",
        "print(languages)\n",
        "\n",
        "vegetables = {\"capsicum\",\"Bitterguard\",\"tomato\"}\n",
        "print(vegetables)"
      ],
      "metadata": {
        "colab": {
          "base_uri": "https://localhost:8080/"
        },
        "id": "LWqqIbiwUSfv",
        "outputId": "6052d541-6de3-4bcd-c1f9-6faa30dd44f9"
      },
      "execution_count": 8,
      "outputs": [
        {
          "output_type": "stream",
          "name": "stdout",
          "text": [
            "{'apple', 'banana'}\n",
            "{'pranay', 'vinay'}\n",
            "{'qspiders', 'teks academy', 'jspiders'}\n",
            "{'python', 'java', 'c'}\n",
            "{'Bitterguard', 'tomato', 'capsicum'}\n"
          ]
        }
      ]
    },
    {
      "cell_type": "code",
      "source": [
        "#add()\n",
        "fruits = {\"apple\",\"banana\"}\n",
        "fruits.add(\"grapes\")\n",
        "print(fruits)\n",
        "\n",
        "names = {\"pranay\",\"vinay\"}\n",
        "names.add(\"kittu\")\n",
        "print(names)\n",
        "\n",
        "institutes = {\"teks academy\",\"qspiders\",\"jspiders\"}\n",
        "institutes.add(\"360digitmg\")\n",
        "print(institutes)\n",
        "\n",
        "languages = {\"python\",\"java\",\"c\"}\n",
        "languages.add(\"javascript\")\n",
        "print(languages)\n",
        "\n",
        "vegetables = {\"capsicum\",\"Bitterguard\",\"tomato\"}\n",
        "vegetables.add(\"potato\")\n",
        "print(vegetables)"
      ],
      "metadata": {
        "colab": {
          "base_uri": "https://localhost:8080/"
        },
        "id": "tkoPO-KydVAo",
        "outputId": "025f82ab-3b86-4719-f953-1e16590a0d1f"
      },
      "execution_count": 10,
      "outputs": [
        {
          "output_type": "stream",
          "name": "stdout",
          "text": [
            "{'grapes', 'apple', 'banana'}\n",
            "{'pranay', 'kittu', 'vinay'}\n",
            "{'360digitmg', 'qspiders', 'teks academy', 'jspiders'}\n",
            "{'python', 'javascript', 'java', 'c'}\n",
            "{'Bitterguard', 'tomato', 'capsicum', 'potato'}\n"
          ]
        }
      ]
    },
    {
      "cell_type": "code",
      "source": [
        "#update()\n",
        "\n",
        "fruits = {\"apple\",\"banana\"}\n",
        "smallfruits = [\"grapes\",\"kiwi\"]\n",
        "updated_set = fruits.update(smallfruits)\n",
        "print(fruits)\n",
        "\n",
        "names = {\"pranay\",\"vinay\"}\n",
        "new_names = {\"kittu\",\"somesh\"}\n",
        "names.update(new_names)\n",
        "print(names)\n",
        "\n",
        "institutes = {\"teks academy\",\"qspiders\",\"jspiders\"}\n",
        "new_institutes = (\"360\",\"scalar\",\"excelr\")\n",
        "institutes.update(new_institutes)\n",
        "print(institutes)\n",
        "\n",
        "languages = {\"python\",\"java\",\"c\"}\n",
        "new_languages=(\"javascript\",\"django\",'telugu')\n",
        "languages.update(new_languages)\n",
        "print(new_languages)\n",
        "\n",
        "vegetables = {\"capsicum\",\"Bitterguard\",\"tomato\"}\n",
        "new_veg = {\"ladysfinger\",\"cabbage\"}\n",
        "vegetables.update(new_veg)\n",
        "print(vegetables)"
      ],
      "metadata": {
        "colab": {
          "base_uri": "https://localhost:8080/"
        },
        "id": "PaEr5hn-X4dt",
        "outputId": "20365862-4362-4be7-a3aa-369a8bcfd411"
      },
      "execution_count": 8,
      "outputs": [
        {
          "output_type": "stream",
          "name": "stdout",
          "text": [
            "{'banana', 'apple', 'kiwi', 'grapes'}\n",
            "{'vinay', 'somesh', 'kittu', 'pranay'}\n",
            "{'scalar', 'teks academy', 'jspiders', '360', 'excelr', 'qspiders'}\n",
            "('javascript', 'django', 'telugu')\n",
            "{'tomato', 'ladysfinger', 'cabbage', 'capsicum', 'Bitterguard'}\n"
          ]
        }
      ]
    },
    {
      "cell_type": "code",
      "source": [
        "#discarda()\n",
        "\n",
        "my_set1 = {\"gopal\",\"lokesh\",\"pranay\",\"pranay\",\"sai krishna\"}\n",
        "my_set1.discard(\"gopal\")\n",
        "print(my_set1)\n",
        "\n",
        "my_set2 = {\"pranay\",\"deepika\",\"keerthysuresh\",\"sreeleela\",\"rashi\"}\n",
        "my_set2.discard(\"deepika\")\n",
        "print(my_set2)\n",
        "my_set3 = {\"srujan\",\"hemanth\",\"srikanth\",\"shiva\",\"kiran\"}\n",
        "my_set3.discard(\"srikanth\")\n",
        "print(my_set3)\n",
        "\n",
        "my_set4 = {\"prudhvi\",\"akshith\",\"monu\",\"smiley\",\"kannaya\"}\n",
        "my_set4.discard(\"monu\")\n",
        "print(my_set4)\n",
        "\n",
        "institutes = {\"teksacademy\",\"qspiders\",\"jspiders\"}\n",
        "institutes.discard(\"teksacademy\")\n",
        "print(institutes)\n"
      ],
      "metadata": {
        "colab": {
          "base_uri": "https://localhost:8080/"
        },
        "id": "v1y6SInhy-HS",
        "outputId": "cfbe7faf-3270-479d-989e-f8897b0d2414"
      },
      "execution_count": 18,
      "outputs": [
        {
          "output_type": "stream",
          "name": "stdout",
          "text": [
            "{'sai krishna', 'pranay', 'lokesh'}\n",
            "{'sreeleela', 'rashi', 'pranay', 'keerthysuresh'}\n",
            "{'kiran', 'shiva', 'hemanth', 'srujan'}\n",
            "{'smiley', 'akshith', 'kannaya', 'prudhvi'}\n",
            "{'jspiders', 'qspiders'}\n"
          ]
        }
      ]
    },
    {
      "cell_type": "code",
      "source": [
        "#remove()\n",
        "my_set1 = {\"gopal\",\"lokesh\",\"pranay\",\"pranay\",\"sai krishna\"}\n",
        "my_set1.remove(\"pranay\",)\n",
        "print(my_set1)\n",
        "\n",
        "my_set2 = {\"pranay\",\"deepika\",\"keerthysuresh\",\"sreeleela\",\"rashi\"}\n",
        "my_set2.remove(\"deepika\")\n",
        "print(my_set2)\n",
        "\n",
        "my_set3 = {\"srujan\",\"hemanth\",\"srikanth\",\"shiva\",\"kiran\"}\n",
        "my_set3.remove(\"srikanth\")\n",
        "print(my_set3)\n",
        "\n",
        "my_set4 = {\"prudhvi\",\"akshith\",\"monu\",\"smiley\",\"kannaya\"}\n",
        "my_set4.remove(\"monu\")\n",
        "print(my_set4)\n",
        "\n",
        "institutes = {\"teksacademy\",\"qspiders\",\"jspiders\"}\n",
        "institutes.remove(\"teksacademy\")\n",
        "print(institutes)"
      ],
      "metadata": {
        "colab": {
          "base_uri": "https://localhost:8080/"
        },
        "id": "STkaMP7r0SUx",
        "outputId": "9e6f2b9b-76ea-4830-ede4-2e386177c540"
      },
      "execution_count": 21,
      "outputs": [
        {
          "output_type": "stream",
          "name": "stdout",
          "text": [
            "{'sai krishna', 'lokesh', 'gopal'}\n",
            "{'sreeleela', 'rashi', 'pranay', 'keerthysuresh'}\n",
            "{'kiran', 'shiva', 'hemanth', 'srujan'}\n",
            "{'smiley', 'akshith', 'kannaya', 'prudhvi'}\n",
            "{'jspiders', 'qspiders'}\n"
          ]
        }
      ]
    },
    {
      "cell_type": "code",
      "source": [
        "#clear()\n",
        "\n",
        "my_set1 = {\"gopal\",\"lokesh\",\"pranay\",\"pranay\",\"sai krishna\"}\n",
        "my_set1.clear()\n",
        "print(my_set1)\n",
        "\n",
        "my_set2 = {\"pranay\",\"deepika\",\"keerthysuresh\",\"sreeleela\",\"rashi\"}\n",
        "my_set2.clear()\n",
        "print(my_set2)\n",
        "\n",
        "my_set3 = {\"srujan\",\"hemanth\",\"srikanth\",\"shiva\",\"kiran\"}\n",
        "my_set3.clear()\n",
        "print(my_set3)\n",
        "\n",
        "my_set4 = {\"prudhvi\",\"akshith\",\"monu\",\"smiley\",\"kannaya\"}\n",
        "my_set4.clear()\n",
        "print(my_set4)"
      ],
      "metadata": {
        "colab": {
          "base_uri": "https://localhost:8080/"
        },
        "id": "B7JCFTRR0xfN",
        "outputId": "ad90a1c3-8e8a-40c3-e883-f630304bbab5"
      },
      "execution_count": 23,
      "outputs": [
        {
          "output_type": "stream",
          "name": "stdout",
          "text": [
            "set()\n",
            "set()\n",
            "set()\n",
            "set()\n"
          ]
        }
      ]
    },
    {
      "cell_type": "code",
      "source": [
        "#copy()\n",
        "set1 = {1,2,3,4,5,6,7,8,9,10}\n",
        "set5 = set1.copy()\n",
        "print(set5)\n",
        "\n",
        "set2 = {11,12,13,14,14,15,16,17,18,19,20}\n",
        "set6 = set2.copy()\n",
        "print(set6)\n",
        "\n",
        "set3 = {11,22,33,44,55,66,77,88,99}\n",
        "set7 = set3.copy()\n",
        "print(set7)\n",
        "\n",
        "set4 = {10,20,30,40,50,60,70,80,90}\n",
        "set8 = set4.copy()\n",
        "print(set8)"
      ],
      "metadata": {
        "colab": {
          "base_uri": "https://localhost:8080/"
        },
        "id": "c-fTLraF1_j7",
        "outputId": "6ae4e067-67ed-4905-892c-cf1e42f67d15"
      },
      "execution_count": 26,
      "outputs": [
        {
          "output_type": "stream",
          "name": "stdout",
          "text": [
            "{1, 2, 3, 4, 5, 6, 7, 8, 9, 10}\n",
            "{11, 12, 13, 14, 15, 16, 17, 18, 19, 20}\n",
            "{33, 66, 99, 11, 44, 77, 22, 55, 88}\n",
            "{70, 40, 10, 80, 50, 20, 90, 60, 30}\n"
          ]
        }
      ]
    },
    {
      "cell_type": "code",
      "source": [
        "#pop()\n",
        "set1 = {1,2,3,4,5,6,7,8,9,10}\n",
        "set1.pop()\n",
        "print(set5)\n",
        "\n",
        "set2 = {11,12,13,14,14,15,16,17,18,19,20}\n",
        "set2.pop()\n",
        "print(set2)\n",
        "\n",
        "set3 = {11,22,33,44,55,66,77,88,99}\n",
        "set3.pop()\n",
        "print(set3)\n",
        "\n",
        "set4 = {10,20,30,40,50,60,70,80,90}\n",
        "set4.pop()\n",
        "print(set8)"
      ],
      "metadata": {
        "colab": {
          "base_uri": "https://localhost:8080/"
        },
        "id": "ifCXlUoF3We0",
        "outputId": "7b53b636-7280-4edb-a6b8-12067bb96256"
      },
      "execution_count": 29,
      "outputs": [
        {
          "output_type": "stream",
          "name": "stdout",
          "text": [
            "{1, 2, 3, 4, 5, 6, 7, 8, 9, 10}\n",
            "{12, 13, 14, 15, 16, 17, 18, 19, 20}\n",
            "{66, 99, 11, 44, 77, 22, 55, 88}\n",
            "{70, 40, 10, 80, 50, 20, 90, 60, 30}\n"
          ]
        }
      ]
    },
    {
      "cell_type": "code",
      "source": [
        "#issubset()\n",
        "#The issubset() method returns True if all items in the set exists in the specified set, otherwise it returns False.\n",
        "set1 = {1 , 2 , 3 , 4 , 5 , 6 , 7}\n",
        "set2 = {3 , 4 , 5}\n",
        "results = set1.issubset(set2)\n",
        "print(results)\n",
        "results = set2 <= set1\n",
        "print(results)\n",
        "set1 = {1 , 2 , 3 , 4 , 5 , 6 , 7}\n",
        "set2 = {3 , 4 , 5}\n",
        "results = set1.issubset(set2)\n",
        "print(results)\n",
        "results = set2 <= set1\n",
        "print(results)"
      ],
      "metadata": {
        "colab": {
          "base_uri": "https://localhost:8080/"
        },
        "id": "yuQBjErE4tFb",
        "outputId": "5de039b4-2137-4ef3-c123-11a92a262797"
      },
      "execution_count": 30,
      "outputs": [
        {
          "output_type": "stream",
          "name": "stdout",
          "text": [
            "False\n",
            "True\n"
          ]
        }
      ]
    },
    {
      "cell_type": "code",
      "source": [
        "#union |\n",
        "#1) Union, include all set1 and set2, no duplicate values\n",
        "set1 = {1,2,3,4,5,6,7,8,9,10}\n",
        "set2 = {11,12,13,14,14,15,16,17,18,19,20}\n",
        "set3 = {11,22,33,44,55,66,77,88,99}\n",
        "set4 = {10,20,30,40,50,60,70,80,90}\n",
        "set5 = {\"gopal\",\"lokesh\",\"pranay\",\"pranay\",\"sai krishna\"}\n",
        "set6 = {\"pranay\",\"deepika\",\"keerthysuresh\",\"sreeleela\",\"rashi\"}\n",
        "\n",
        "print(set1 | set2)\n",
        "print(set2 | set5)\n",
        "print(set6 | set3)\n",
        "print(set5 | set1)"
      ],
      "metadata": {
        "colab": {
          "base_uri": "https://localhost:8080/"
        },
        "id": "Pd3bWF5N5BlY",
        "outputId": "0f9fd3b1-103a-42dc-9e96-4a62555bd377"
      },
      "execution_count": 34,
      "outputs": [
        {
          "output_type": "stream",
          "name": "stdout",
          "text": [
            "{1, 2, 3, 4, 5, 6, 7, 8, 9, 10, 11, 12, 13, 14, 15, 16, 17, 18, 19, 20}\n",
            "{'sai krishna', 'lokesh', 'gopal', 11, 12, 13, 14, 15, 16, 17, 18, 19, 20, 'pranay'}\n",
            "{33, 'deepika', 66, 99, 11, 44, 77, 'pranay', 'keerthysuresh', 'sreeleela', 'rashi', 22, 55, 88}\n",
            "{'sai krishna', 1, 2, 3, 4, 'lokesh', 5, 'gopal', 6, 7, 8, 9, 10, 'pranay'}\n"
          ]
        }
      ]
    },
    {
      "cell_type": "code",
      "source": [
        "#intersection &\n",
        "#includes only common elements, no duplicate elements\n",
        "\n",
        "set1 = {1,2,3,4,5,6,7,8,9,10}\n",
        "set2 = {11,12,13,14,14,15,16,7,2,4,17,18,19,20}\n",
        "set3 = {11,22,33,44,55,66,77,88,99}\n",
        "set4 = {10,20,30,40,50,60,70,80,90}\n",
        "set5 = {\"gopal\",\"lokesh\",\"pranay\",\"pranay\",\"sai krishna\"}\n",
        "set6 = {\"pranay\",\"deepika\",\"keerthysuresh\",\"sreeleela\",\"rashi\"}\n",
        "\n",
        "print(set1 & set2)\n",
        "print(set2 & set3)\n",
        "print(set6 & set5)"
      ],
      "metadata": {
        "colab": {
          "base_uri": "https://localhost:8080/"
        },
        "id": "k28o6dFd9GKi",
        "outputId": "7404e3f5-3f4c-4a82-cf96-0b7826688914"
      },
      "execution_count": 38,
      "outputs": [
        {
          "output_type": "stream",
          "name": "stdout",
          "text": [
            "{2, 4, 7}\n",
            "{11}\n",
            "{'pranay'}\n",
            "set()\n"
          ]
        }
      ]
    },
    {
      "cell_type": "code",
      "source": [
        "#Difference\n",
        "#removes B from A if A-B , removes A from B if B-A and displays remaining elements\n",
        "set1 = {1,2,3,4,5,6,7,8,9,10}\n",
        "set2 = {11,12,13,14,14,15,16,7,2,4,17,18,19,20}\n",
        "set3 = {11,22,33,44,55,66,77,80,90,30,88,99}\n",
        "set4 = {10,20,30,40,50,60,70,80,90}\n",
        "set5 = {\"gopal\",\"lokesh\",\"pranay\",\"pranay\",\"sai krishna\"}\n",
        "set6 = {\"pranay\",\"deepika\",\"keerthysuresh\",\"sreeleela\",\"rashi\"}\n",
        "\n",
        "print(set1 - set2)\n",
        "print(set2 - set3)\n",
        "print(set6 - set5)\n"
      ],
      "metadata": {
        "colab": {
          "base_uri": "https://localhost:8080/"
        },
        "id": "UY-__zM89uLA",
        "outputId": "40bc5255-69dd-4de8-84a9-1425ebb0b980"
      },
      "execution_count": 39,
      "outputs": [
        {
          "output_type": "stream",
          "name": "stdout",
          "text": [
            "{1, 3, 5, 6, 8, 9, 10}\n",
            "{2, 4, 7, 12, 13, 14, 15, 16, 17, 18, 19, 20}\n",
            "{'deepika', 'sreeleela', 'rashi', 'keerthysuresh'}\n"
          ]
        }
      ]
    },
    {
      "cell_type": "code",
      "source": [
        "#set symmetric\n",
        "#removes common elements and displays remaining\n",
        "\n",
        "set1 = {1,2,3,4,5,6,7,8,9,10}\n",
        "set2 = {11,12,13,14,14,15,16,7,2,4,17,18,19,20}\n",
        "set3 = {11,22,33,44,55,66,77,80,90,30,88,99}\n",
        "set4 = {10,20,30,40,50,60,70,80,90}\n",
        "set5 = {\"gopal\",\"lokesh\",\"pranay\",\"pranay\",\"sai krishna\"}\n",
        "set6 = {\"pranay\",\"deepika\",\"keerthysuresh\",\"sreeleela\",\"rashi\"}\n",
        "\n",
        "print(set1 ^ set2)\n",
        "print(set2 ^ set3)\n",
        "print(set6 ^ set5)"
      ],
      "metadata": {
        "colab": {
          "base_uri": "https://localhost:8080/"
        },
        "id": "aPk6gajs-MzR",
        "outputId": "352be750-7389-4f14-95f9-87fd64ce49fd"
      },
      "execution_count": 40,
      "outputs": [
        {
          "output_type": "stream",
          "name": "stdout",
          "text": [
            "{1, 3, 5, 6, 8, 9, 10, 11, 12, 13, 14, 15, 16, 17, 18, 19, 20}\n",
            "{2, 4, 7, 12, 13, 14, 15, 16, 17, 18, 19, 20, 22, 30, 33, 44, 55, 66, 77, 80, 88, 90, 99}\n",
            "{'sai krishna', 'deepika', 'lokesh', 'gopal', 'keerthysuresh', 'sreeleela', 'rashi'}\n"
          ]
        }
      ]
    }
  ]
}