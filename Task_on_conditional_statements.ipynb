{
  "cells": [
    {
      "cell_type": "markdown",
      "metadata": {
        "id": "view-in-github",
        "colab_type": "text"
      },
      "source": [
        "<a href=\"https://colab.research.google.com/github/pranaydurnala/Python-Basics/blob/main/Task_on_conditional_statements.ipynb\" target=\"_parent\"><img src=\"https://colab.research.google.com/assets/colab-badge.svg\" alt=\"Open In Colab\"/></a>"
      ]
    },
    {
      "cell_type": "code",
      "execution_count": 22,
      "metadata": {
        "colab": {
          "base_uri": "https://localhost:8080/"
        },
        "id": "bSHJn-PbDqlw",
        "outputId": "aff8d1ef-f3ca-41e5-e5f4-673946812059"
      },
      "outputs": [
        {
          "output_type": "stream",
          "name": "stdout",
          "text": [
            "welcome to pranay's restaurant\n",
            "WELCOME TO PRANAY RESTAURANT Press 1 for Veg items Press 2 for Non-Veg items1\n",
            "Please select the item you want:\n",
            "1.Paneer_curry, 2.roti , 3,veg_biryani , 4.gobi_manchuria1\n",
            "Your order 'Panner_curry' is confirmed\n"
          ]
        }
      ],
      "source": [
        "print(\"welcome to pranay's restaurant\")\n",
        "items = int(input(\"Welcome to PRANAY RESTAURANT Press 1 for Veg items Press 2 for Non-Veg items\"))\n",
        "if items == 1:\n",
        "    print(\"Please select the item you want:\")\n",
        "    vegitems = int(input(\"1.Paneer_curry, 2.roti , 3,veg_biryani , 4.gobi_manchuria\"))\n",
        "    if vegitems == 1:\n",
        "        print(\"Your order 'Panner_curry' is confirmed\")\n",
        "    elif vegitems == 2:\n",
        "        print(\"Your order 'roti' is confirmed\")\n",
        "    elif vegitems == 3:\n",
        "        print(\"Your order 'veg_biryani' is confirmed\")\n",
        "    elif vegitems == 4:\n",
        "        print(\"Your order 'gobi_manchuria' is confirmed\")\n",
        "    else :\n",
        "        print(\"input not recognised\")\n",
        "elif items == 2:\n",
        "    print(\"Please select the item you want:\")\n",
        "    nonvegitems = int(input(\"1.chicken tikka , 2.chicken manchuria , 3.chicken kebab\"))\n",
        "    if nonvegitems == 1:\n",
        "        print(\"Your order 'chicken tikka' is confirmed\")\n",
        "    elif nonvegitems == 2:\n",
        "        print(\"Your order 'chicken manchuria' is confirmed\")\n",
        "    elif nonvegitems == 3:\n",
        "        print(\"Your order 'chicken kebab' is confirmed\")\n",
        "    else:\n",
        "      print(\"input not recognised\")"
      ]
    },
    {
      "cell_type": "code",
      "source": [
        "score = int(input(\"Enter your score\"))\n",
        "if score >100:\n",
        "    grade = 'A+'\n",
        "elif score >90:\n",
        "    grade = 'A'\n",
        "elif score >80:\n",
        "    grade = 'B+'\n",
        "elif score >70:\n",
        "    grade = 'B'\n",
        "elif score >60:\n",
        "    grade = 'C+'\n",
        "elif score >50:\n",
        "    grade = 'C'\n",
        "elif score >40:\n",
        "    grade = 'F'\n",
        "\n",
        "print(f\"your grade is {grade}\")"
      ],
      "metadata": {
        "colab": {
          "base_uri": "https://localhost:8080/"
        },
        "id": "cQ8-OlMskOxk",
        "outputId": "e206eb31-588d-4d25-f5d3-c17205324b30"
      },
      "execution_count": 24,
      "outputs": [
        {
          "output_type": "stream",
          "name": "stdout",
          "text": [
            "Enter your score112\n",
            "your grade is A+\n"
          ]
        }
      ]
    },
    {
      "cell_type": "code",
      "execution_count": 13,
      "metadata": {
        "colab": {
          "base_uri": "https://localhost:8080/"
        },
        "id": "EhBMLemKS-Lf",
        "outputId": "ba5bd783-ec8f-4ad7-9a6b-f658b04a5ce2"
      },
      "outputs": [
        {
          "output_type": "stream",
          "name": "stdout",
          "text": [
            "eligible voters [34, 78, 23]\n",
            "not eligible voters [5, 10, 16]\n"
          ]
        }
      ],
      "source": [
        "age = [34,5,78,23,10,16]\n",
        "eligible =[]\n",
        "not_eligible=[]\n",
        "if age[0] >=18:\n",
        "    eligible.append(age[0])\n",
        "else:\n",
        "    not_eligible.append(ages[0])\n",
        "if age[1] >=18:\n",
        "    eligible.append(age[1])\n",
        "else:\n",
        "    not_eligible.append(age[1])\n",
        "if age[2] >=18:\n",
        "    eligible.append(age[2])\n",
        "else:\n",
        "    not_eligible.append(age[2])\n",
        "if age[3] >=18:\n",
        "    eligible.append(age[3])\n",
        "else:\n",
        "    not_eligible.append(age[3])\n",
        "if age[4] >=18:\n",
        "    eligible.append(age[4])\n",
        "else:\n",
        "    not_eligible.append(age[4])\n",
        "if age[5] >=18:\n",
        "    eligible.append(age[5])\n",
        "else:\n",
        "    not_eligible.append(age[5])\n",
        "\n",
        "print(\"eligible voters\",eligible)\n",
        "print(\"not eligible voters\",not_eligible)\n",
        "\n"
      ]
    }
  ],
  "metadata": {
    "colab": {
      "provenance": [],
      "authorship_tag": "ABX9TyNLdyfXZLd0MCTj898ZyAkj",
      "include_colab_link": true
    },
    "kernelspec": {
      "display_name": "Python 3",
      "name": "python3"
    },
    "language_info": {
      "name": "python"
    }
  },
  "nbformat": 4,
  "nbformat_minor": 0
}