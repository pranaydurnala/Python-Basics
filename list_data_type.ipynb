{
  "nbformat": 4,
  "nbformat_minor": 0,
  "metadata": {
    "colab": {
      "provenance": [],
      "authorship_tag": "ABX9TyMQenrSn+NBrmh6F8sMfkU0",
      "include_colab_link": true
    },
    "kernelspec": {
      "name": "python3",
      "display_name": "Python 3"
    },
    "language_info": {
      "name": "python"
    }
  },
  "cells": [
    {
      "cell_type": "markdown",
      "metadata": {
        "id": "view-in-github",
        "colab_type": "text"
      },
      "source": [
        "<a href=\"https://colab.research.google.com/github/pranaydurnala/Python-Basics/blob/main/list_data_type.ipynb\" target=\"_parent\"><img src=\"https://colab.research.google.com/assets/colab-badge.svg\" alt=\"Open In Colab\"/></a>"
      ]
    },
    {
      "cell_type": "code",
      "execution_count": null,
      "metadata": {
        "colab": {
          "base_uri": "https://localhost:8080/"
        },
        "id": "HOFXvcZBNFbn",
        "outputId": "d4eaf8a0-8f24-4b51-ef40-917fac5278a5"
      },
      "outputs": [
        {
          "output_type": "stream",
          "name": "stdout",
          "text": [
            "[]\n"
          ]
        }
      ],
      "source": [
        "#empty list\n",
        "list1 = []\n",
        "print(list1)"
      ]
    },
    {
      "cell_type": "code",
      "source": [
        "#list with numbers\n",
        "list1 = [1,2,3,4,5,6,7,8,9,10]\n",
        "list2 = [11,12,13,14,14,15,16,17,18,19,20]\n",
        "list3 = [11,22,33,44,55,66,77,88,99]\n",
        "list4 = [10,20,30,40,50,60,70,80,90]\n",
        "print(list1[2])\n",
        "print(list2[5])\n",
        "print(list3[-6])\n",
        "print(list4[-5])\n",
        "\n",
        "#list with strings\n",
        "my_list1 = [\"gopal\",\"lokesh\",\"pranay\",\"pranay\",\"sai krishna\"]\n",
        "my_list2 = [\"pranay\",\"deepika\",\"keerthysuresh\",\"sreeleela\",\"rashi\"]\n",
        "my_list3 = [\"srujan\",\"hemanth\",\"srikanth\",\"shiva\",\"kiran\"]\n",
        "my_list4 = [\"prudhvi\",\"akshith\",\"monu\",\"smiley\",\"kannaya\"]\n",
        "print(my_list1[3])\n",
        "print(my_list2[0])\n",
        "print(my_list3[-2])\n",
        "print(my_list4[-1])"
      ],
      "metadata": {
        "colab": {
          "base_uri": "https://localhost:8080/"
        },
        "id": "ZRPB27BGUXh2",
        "outputId": "fc4a2009-fa55-4732-b3cd-e80db25a3f84"
      },
      "execution_count": null,
      "outputs": [
        {
          "output_type": "stream",
          "name": "stdout",
          "text": [
            "3\n",
            "15\n",
            "44\n",
            "50\n",
            "pranay\n",
            "pranay\n",
            "shiva\n",
            "kannaya\n"
          ]
        }
      ]
    },
    {
      "cell_type": "code",
      "source": [
        "#Slicing-numbers\n",
        "list1 = [1,2,3,4,5,6,7,8,9,10]\n",
        "list2 = [11,12,13,14,14,15,16,17,18,19,20]\n",
        "list3 = [11,22,33,44,55,66,77,88,99]\n",
        "list4 = [10,20,30,40,50,60,70,80,90]\n",
        "print(list1[1:3])\n",
        "print(list3[4:7])\n",
        "print(list2[-3:-6])\n",
        "print(list4[-8:-1])\n",
        "\n",
        "#slicing-strings\n",
        "my_list1 = [\"gopal\",\"lokesh\",\"pranay\",\"pranay\",\"sai krishna\"]\n",
        "my_list2 = [\"pranay\",\"deepika\",\"keerthysuresh\",\"sreeleela\",\"rashi\"]\n",
        "my_list3 = [\"srujan\",\"hemanth\",\"srikanth\",\"shiva\",\"kiran\"]\n",
        "my_list4 = [\"prudhvi\",\"akshith\",\"monu\",\"smiley\",\"kannaya\"]\n",
        "print(my_list1[1:3])\n",
        "print(my_list2[4:7])\n",
        "print(my_list3[-3:-6])\n",
        "print(my_list4[-8:-1])"
      ],
      "metadata": {
        "colab": {
          "base_uri": "https://localhost:8080/"
        },
        "id": "rguXsNbiWi-h",
        "outputId": "1a2a4218-c33b-4bf2-ef85-b37fd533c774"
      },
      "execution_count": null,
      "outputs": [
        {
          "output_type": "stream",
          "name": "stdout",
          "text": [
            "[2, 3]\n",
            "[55, 66, 77]\n",
            "[]\n",
            "[20, 30, 40, 50, 60, 70, 80]\n",
            "['lokesh', 'pranay']\n",
            "['rashi']\n",
            "[]\n",
            "['prudhvi', 'akshith', 'monu', 'smiley']\n"
          ]
        }
      ]
    },
    {
      "cell_type": "code",
      "source": [
        "#concatination()\n",
        "\n",
        "list1 = [1,2,3,4,5,6,7,8,9,10]\n",
        "list2 = [11,12,13,14,14,15,16,17,18,19,20]\n",
        "print(list1+list2)\n",
        "print(list2+list1)\n",
        "\n",
        "#with string\n",
        "my_list1 = [\"gopal\",\"lokesh\",\"pranay\",\"pranay\",\"sai krishna\"]\n",
        "my_list2 = [\"pranay\",\"deepika\",\"keerthysuresh\",\"sreeleela\",\"rashi\"]\n",
        "\n",
        "print(my_list1+my_list2)"
      ],
      "metadata": {
        "colab": {
          "base_uri": "https://localhost:8080/"
        },
        "id": "35e1nCCQgPRt",
        "outputId": "193dd0e1-fd12-4a3a-d5d2-4b99d9c97bda"
      },
      "execution_count": null,
      "outputs": [
        {
          "output_type": "stream",
          "name": "stdout",
          "text": [
            "[1, 2, 3, 4, 5, 6, 7, 8, 9, 10, 11, 12, 13, 14, 14, 15, 16, 17, 18, 19, 20]\n",
            "[11, 12, 13, 14, 14, 15, 16, 17, 18, 19, 20, 1, 2, 3, 4, 5, 6, 7, 8, 9, 10]\n",
            "['gopal', 'lokesh', 'pranay', 'pranay', 'sai krishna', 'pranay', 'deepika', 'keerthysuresh', 'sreeleela', 'rashi']\n"
          ]
        }
      ]
    },
    {
      "cell_type": "code",
      "source": [
        "#repetation()\n",
        "\n",
        "list1 = [1,2,3,4,5,6,7,8,9,10]\n",
        "list2 = [11,12,13,14,14,15,16,17,18,19,20]\n",
        "list3 = [11,22,33,44,55,66,77,88,99]\n",
        "list4 = [10,20,30,40,50,60,70,80,90]\n",
        "\n",
        "print(list1 * 2)\n",
        "print(list2 * 1)\n",
        "print(list3 * 3)\n",
        "\n",
        "my_list1 = [\"gopal\",\"lokesh\",\"pranay\",\"pranay\",\"sai krishna\"]\n",
        "my_list2 = [\"pranay\",\"deepika\",\"keerthysuresh\",\"sreeleela\",\"rashi\"]\n",
        "my_list3 = [\"srujan\",\"hemanth\",\"srikanth\",\"shiva\",\"kiran\"]\n",
        "my_list4 = [\"prudhvi\",\"akshith\",\"monu\",\"smiley\",\"kannaya\"]\n",
        "\n",
        "print(my_list1 * 3)\n",
        "print(my_list2 * 2)\n",
        "print(my_list3 * 2)"
      ],
      "metadata": {
        "colab": {
          "base_uri": "https://localhost:8080/"
        },
        "id": "pSs73yfPhD61",
        "outputId": "1b2c4184-289a-4551-8e11-10d3ebb6c5f3"
      },
      "execution_count": null,
      "outputs": [
        {
          "output_type": "stream",
          "name": "stdout",
          "text": [
            "[1, 2, 3, 4, 5, 6, 7, 8, 9, 10, 1, 2, 3, 4, 5, 6, 7, 8, 9, 10]\n",
            "[11, 12, 13, 14, 14, 15, 16, 17, 18, 19, 20]\n",
            "[11, 22, 33, 44, 55, 66, 77, 88, 99, 11, 22, 33, 44, 55, 66, 77, 88, 99, 11, 22, 33, 44, 55, 66, 77, 88, 99]\n",
            "['gopal', 'lokesh', 'pranay', 'pranay', 'sai krishna', 'gopal', 'lokesh', 'pranay', 'pranay', 'sai krishna', 'gopal', 'lokesh', 'pranay', 'pranay', 'sai krishna']\n",
            "['pranay', 'deepika', 'keerthysuresh', 'sreeleela', 'rashi', 'pranay', 'deepika', 'keerthysuresh', 'sreeleela', 'rashi']\n",
            "['srujan', 'hemanth', 'srikanth', 'shiva', 'kiran', 'srujan', 'hemanth', 'srikanth', 'shiva', 'kiran']\n"
          ]
        }
      ]
    },
    {
      "cell_type": "code",
      "source": [
        "#append()\n",
        "list1 = [1,2,3,4,5,6,7,8,9,10]\n",
        "list1.append(5)\n",
        "print(list1)\n",
        "\n",
        "list2 = [11,12,13,14,14,15,16,17,18,19,20]\n",
        "list2.append(8)\n",
        "print(list2)\n",
        "\n",
        "list3 = [11,22,33,44,55,66,77,88,99]\n",
        "list3.append(9)\n",
        "print(list3)\n",
        "\n",
        "list4 = [10,20,30,40,50,60,70,80,90]\n",
        "list4.append(12)\n",
        "print(list4)"
      ],
      "metadata": {
        "colab": {
          "base_uri": "https://localhost:8080/"
        },
        "id": "5B6tdfF1iPIk",
        "outputId": "3ad144ea-38da-4716-b873-5c21c5492f33"
      },
      "execution_count": null,
      "outputs": [
        {
          "output_type": "stream",
          "name": "stdout",
          "text": [
            "[1, 2, 3, 4, 5, 6, 7, 8, 9, 10, 5]\n",
            "[11, 12, 13, 14, 14, 15, 16, 17, 18, 19, 20, 8]\n",
            "[11, 22, 33, 44, 55, 66, 77, 88, 99, 9]\n",
            "[10, 20, 30, 40, 50, 60, 70, 80, 90, 12]\n"
          ]
        }
      ]
    },
    {
      "cell_type": "code",
      "source": [
        "#extend()\n",
        "list1 = [1,2,3,4,5,6,7,8,9,10]\n",
        "mylist = (1,5)\n",
        "list1.extend(mylist)\n",
        "print(list1)\n",
        "\n",
        "list2 = [11,12,13,14,14,15,16,17,18,19,20]\n",
        "mylist2 = (5,8)\n",
        "list2.extend(mylist2)\n",
        "print(list2)\n",
        "\n",
        "list3 = [11,22,33,44,55,66,77,88,99]\n",
        "mylist3 = (20,90)\n",
        "list3.extend(mylist3)\n",
        "print(list3)\n",
        "\n",
        "list4 = [10,20,30,40,50,60,70,80,90]\n",
        "mylist4 = (15,30)\n",
        "list4.extend(mylist4)\n",
        "print(list4)"
      ],
      "metadata": {
        "colab": {
          "base_uri": "https://localhost:8080/"
        },
        "id": "o1tag71Pj9qN",
        "outputId": "072ea08a-cd0d-4dda-9610-9d98d517d975"
      },
      "execution_count": 41,
      "outputs": [
        {
          "output_type": "stream",
          "name": "stdout",
          "text": [
            "[1, 2, 3, 4, 5, 6, 7, 8, 9, 10, 1, 5]\n",
            "[11, 12, 13, 14, 14, 15, 16, 17, 18, 19, 20, 5, 8]\n",
            "[11, 22, 33, 44, 55, 66, 77, 88, 99, 20, 90]\n",
            "[10, 20, 30, 40, 50, 60, 70, 80, 90, 15, 30]\n"
          ]
        }
      ]
    },
    {
      "cell_type": "code",
      "source": [
        "9#Insert()\n",
        "\n",
        "list1 = [1,2,3,4,5,6,7,8,9,10]\n",
        "list2 = [11,12,13,14,14,15,16,17,18,19,20]\n",
        "list3 = [11,22,33,44,55,66,77,88,99]\n",
        "list4 = [10,20,30,40,50,60,70,80,90]\n",
        "list1.insert(1,2)\n",
        "print(list1)\n",
        "list2.insert(15,16)\n",
        "print(list2)\n",
        "list3.insert(22,40)\n",
        "print(list3)\n",
        "list4.insert(30,32)\n",
        "print(list4)"
      ],
      "metadata": {
        "id": "gzGjKVJil29n"
      },
      "execution_count": null,
      "outputs": []
    },
    {
      "cell_type": "code",
      "source": [
        "#pop()\n",
        "batch1 = ['pranay','lokesh','kittu','pranayreddy']\n",
        "pop_element = batch1.pop(2)\n",
        "print(batch1)\n",
        "print(pop_element)\n",
        "\n",
        "batch2 = [\"deepika\",\"keerthysuresh\",\"sreeleela\",\"rashi\"]\n",
        "pop_element = batch2.pop(3)\n",
        "print(batch2)\n",
        "print(pop_element)\n",
        "\n",
        "csd_rollno = ['20641A6723','20641A6722',\"20641A6733\",'20641A6744']\n",
        "pop_element = csd_rollno.pop(0)\n",
        "print(csd_rollno)\n",
        "print(pop_element)\n",
        "\n",
        "csm_rollno = [\"prudhvi\",\"akshith\",\"monu\",\"smiley\",\"kannaya\"]\n",
        "pop_element = csm_rollno.pop(1)\n",
        "print(csm_rollno)\n",
        "print(pop_element)"
      ],
      "metadata": {
        "colab": {
          "base_uri": "https://localhost:8080/"
        },
        "id": "SbWlX8JOHS_a",
        "outputId": "9731f101-35f4-4a14-d329-da72c0a466d5"
      },
      "execution_count": null,
      "outputs": [
        {
          "output_type": "stream",
          "name": "stdout",
          "text": [
            "['pranay', 'lokesh', 'pranayreddy']\n",
            "kittu\n",
            "['deepika', 'keerthysuresh', 'sreeleela']\n",
            "rashi\n",
            "['20641A6722', '20641A6733', '20641A6744']\n",
            "20641A6723\n",
            "['prudhvi', 'monu', 'smiley', 'kannaya']\n",
            "akshith\n"
          ]
        }
      ]
    },
    {
      "cell_type": "code",
      "source": [
        "#remove()\n",
        "list1 = [1,2,3,4,5,6,7,8,9,10]\n",
        "removing_num = list1.remove(3)\n",
        "print(list1)\n",
        "\n",
        "list2 = [11,12,13,14,14,15,16,17,18,19,20]\n",
        "removing_num = list2.remove(16)\n",
        "print(list2)\n",
        "\n",
        "list3 = [\"prudhvi\",\"akshith\",\"monu\",\"smiley\",\"kannaya\"]\n",
        "removing_num = list3.remove('akshith')\n",
        "print(list3)\n",
        "\n",
        "list4 = ['20641A6723','20641A6722',\"20641A6733\",'20641A6744']\n",
        "removing_num = list4.remove('20641A6722')\n",
        "print(list4)"
      ],
      "metadata": {
        "colab": {
          "base_uri": "https://localhost:8080/"
        },
        "id": "5RSWQd84JusD",
        "outputId": "f30d8f87-79e0-470e-e1c6-5f1478268064"
      },
      "execution_count": null,
      "outputs": [
        {
          "output_type": "stream",
          "name": "stdout",
          "text": [
            "[1, 2, 4, 5, 6, 7, 8, 9, 10]\n",
            "[11, 12, 13, 14, 14, 15, 17, 18, 19, 20]\n",
            "['prudhvi', 'monu', 'smiley', 'kannaya']\n",
            "['20641A6723', '20641A6733', '20641A6744']\n"
          ]
        }
      ]
    },
    {
      "cell_type": "code",
      "source": [
        "#index()\n",
        "\n",
        "list1 = [1,2,3,4,5,6,7,8,9,10]\n",
        "index_num = list1.index(3)\n",
        "print(index_num)\n",
        "\n",
        "list2 = [11,12,13,14,14,15,16,17,18,19,20]\n",
        "index_num = list2.index(16)\n",
        "print(index_num)\n",
        "\n",
        "list3 = [\"prudhvi\",\"akshith\",\"monu\",\"smiley\",\"kannaya\"]\n",
        "index_num = list3.index('akshith')\n",
        "print(index_num)\n",
        "\n",
        "list4 = ['20641A6723','20641A6722',\"20641A6733\",'20641A6744']\n",
        "index_num = list4.index('20641A6722')\n",
        "print(index_num)"
      ],
      "metadata": {
        "colab": {
          "base_uri": "https://localhost:8080/"
        },
        "id": "FGy2OjyXLp5N",
        "outputId": "3f45828b-11d5-4708-f6ec-8d0ee23a84ae"
      },
      "execution_count": null,
      "outputs": [
        {
          "output_type": "stream",
          "name": "stdout",
          "text": [
            "2\n",
            "6\n",
            "1\n",
            "1\n"
          ]
        }
      ]
    },
    {
      "cell_type": "code",
      "source": [
        "#count()\n",
        "\n",
        "list1 = [1,2,3,3,4,5,6,7,8,9,10]\n",
        "count_num = list1.count(3)\n",
        "print(count_num)\n",
        "\n",
        "list2 = [11,12,13,14,16,14,15,16,17,18,19,20]\n",
        "count_num = list2.count(16)\n",
        "print(count_num)\n",
        "\n",
        "list3 = [\"prudhvi\",\"akshith\",\"monu\",\"smiley\",\"kannaya\"]\n",
        "count_num = list3.count('akshith')\n",
        "print(count_num)\n",
        "\n",
        "list4 = ['20641A6723','20641A6722',\"20641A6733\",'20641A6744']\n",
        "count_num = list4.count('20641A6722')\n",
        "print(count_num)"
      ],
      "metadata": {
        "colab": {
          "base_uri": "https://localhost:8080/"
        },
        "id": "t8ZwhU2zMiWn",
        "outputId": "0b5af49a-9630-46de-9cba-65c79b488773"
      },
      "execution_count": 31,
      "outputs": [
        {
          "output_type": "stream",
          "name": "stdout",
          "text": [
            "2\n",
            "2\n",
            "1\n",
            "1\n"
          ]
        }
      ]
    },
    {
      "cell_type": "code",
      "source": [
        "#sort()\n",
        "list1 = [1,2,3,3,4,5,6,7,8,9,10]\n",
        "list1.sort()\n",
        "print(list1)\n",
        "\n",
        "list2 = [11,12,13,14,16,14,15,16,17,18,19,20]\n",
        "list2.sort()\n",
        "print(list2)\n",
        "\n",
        "list3 = [\"prudhvi\",\"akshith\",\"monu\",\"smiley\",\"kannaya\"]\n",
        "list3.sort()\n",
        "print(list3)\n",
        "\n",
        "list4 = ['20641A6723','20641A6722',\"20641A6733\",'20641A6744']\n",
        "list4.sort()\n",
        "print(list4)\n"
      ],
      "metadata": {
        "colab": {
          "base_uri": "https://localhost:8080/"
        },
        "id": "9523pAKYUCff",
        "outputId": "4c5283ef-4e1b-4a69-fc05-a71e70549899"
      },
      "execution_count": 26,
      "outputs": [
        {
          "output_type": "stream",
          "name": "stdout",
          "text": [
            "[1, 2, 3, 3, 4, 5, 6, 7, 8, 9, 10]\n",
            "[11, 12, 13, 14, 14, 15, 16, 16, 17, 18, 19, 20]\n",
            "['akshith', 'kannaya', 'monu', 'prudhvi', 'smiley']\n",
            "['20641A6722', '20641A6723', '20641A6733', '20641A6744']\n"
          ]
        }
      ]
    },
    {
      "cell_type": "code",
      "source": [
        "#reverse()\n",
        "list1 = [1,2,3,3,4,5,6,7,8,9,10]\n",
        "list1.reverse()\n",
        "print(list1)\n",
        "\n",
        "list2 = [11,12,13,14,16,14,15,16,17,18,19,20]\n",
        "list2.reverse()\n",
        "print(list2)\n",
        "\n",
        "list3 = [\"prudhvi\",\"akshith\",\"monu\",\"smiley\",\"kannaya\"]\n",
        "list3.reverse()\n",
        "print(list3)\n",
        "\n",
        "list4 = ['20641A6723','20641A6722',\"20641A6733\",'20641A6744']\n",
        "list4.reverse()\n",
        "print(list4)"
      ],
      "metadata": {
        "colab": {
          "base_uri": "https://localhost:8080/"
        },
        "id": "Z3UIEIMkU9ME",
        "outputId": "2ffbeffd-7e86-4078-db09-22bd5efdaabc"
      },
      "execution_count": 27,
      "outputs": [
        {
          "output_type": "stream",
          "name": "stdout",
          "text": [
            "[10, 9, 8, 7, 6, 5, 4, 3, 3, 2, 1]\n",
            "[20, 19, 18, 17, 16, 15, 14, 16, 14, 13, 12, 11]\n",
            "['kannaya', 'smiley', 'monu', 'akshith', 'prudhvi']\n",
            "['20641A6744', '20641A6733', '20641A6722', '20641A6723']\n"
          ]
        }
      ]
    },
    {
      "cell_type": "code",
      "source": [
        "#copy()\n",
        "\n",
        "list1 = [1,2,3,3,4,5,6,7,8,9,10]\n",
        "copy_num = list1.copy()\n",
        "print(copy_num)\n",
        "\n",
        "list2 = [11,12,13,14,16,14,15,16,17,18,19,20]\n",
        "copy_num = list2.copy()\n",
        "print(copy_num)\n",
        "\n",
        "list3 = [\"prudhvi\",\"akshith\",\"monu\",\"smiley\",\"kannaya\"]\n",
        "copy_num = list3.copy()\n",
        "print(copy_num)\n",
        "\n",
        "list4 = ['20641A6723','20641A6722',\"20641A6733\",'20641A6744']\n",
        "copy_num = list4.copy()\n",
        "print(copy_num)"
      ],
      "metadata": {
        "colab": {
          "base_uri": "https://localhost:8080/"
        },
        "id": "_VGEGnc4VOLt",
        "outputId": "fbcf216d-0cfd-4c3f-e26d-36f18ec60077"
      },
      "execution_count": 28,
      "outputs": [
        {
          "output_type": "stream",
          "name": "stdout",
          "text": [
            "[1, 2, 3, 3, 4, 5, 6, 7, 8, 9, 10]\n",
            "[11, 12, 13, 14, 16, 14, 15, 16, 17, 18, 19, 20]\n",
            "['prudhvi', 'akshith', 'monu', 'smiley', 'kannaya']\n",
            "['20641A6723', '20641A6722', '20641A6733', '20641A6744']\n"
          ]
        }
      ]
    },
    {
      "cell_type": "code",
      "source": [
        "#len()\n",
        "list1 = [1,2,3,3,4,5,6,7,8,9,10]\n",
        "print(\"length of list1 is\",len(list1))\n",
        "\n",
        "list2 = [11,12,13,14,16,14,15,16,17,18,19,20]\n",
        "print(\"length of list2 is\",len(list2))\n",
        "\n",
        "list3 = [\"prudhvi\",\"akshith\",\"monu\",\"smiley\",\"kannaya\"]\n",
        "print(\"length of list3 is\",len(list3))\n",
        "\n",
        "list4 = ['20641A6723','20641A6722',\"20641A6733\",'20641A6744']\n",
        "print(\"length of list4 is\",len(list4))"
      ],
      "metadata": {
        "colab": {
          "base_uri": "https://localhost:8080/"
        },
        "id": "zrcfwzx0Wj7K",
        "outputId": "1354db3c-31cd-48e1-b99e-95f187c1de14"
      },
      "execution_count": 38,
      "outputs": [
        {
          "output_type": "stream",
          "name": "stdout",
          "text": [
            "length of list1 is 11\n",
            "length of list2 is 12\n",
            "length of list3 is 5\n",
            "length of list4 is 4\n"
          ]
        }
      ]
    },
    {
      "cell_type": "code",
      "source": [
        "#min() and max()\n",
        "list1 = [1,2,3,3,4,5,6,7,8,9,10]\n",
        "print(\"Maximum element in the list1 is: \",max(list1))\n",
        "print(\"Minimum element in the list1 is: \",min(list1))\n",
        "\n",
        "list2 = [11,12,13,14,16,14,15,16,17,18,19,20]\n",
        "print(\"Maximum element in the list3 is: \",max(list2))\n",
        "print(\"Minimum element in the list3 is: \",min(list2))\n",
        "\n",
        "list3 = [\"prudhvi\",\"akshith\",\"monu\",\"smiley\",\"kannaya\"]\n",
        "print(\"Maximum element in the list3 is: \",max(list3))\n",
        "print(\"Minimum element in the list3 is: \",min(list3))\n",
        "\n",
        "list4 = ['20641A6723','20641A6722',\"20641A6733\",'20641A6744']\n",
        "print(\"Maximum element in the list4 is: \",max(list4))\n",
        "print(\"Minimum element in the list4 is: \",min(list4))\n"
      ],
      "metadata": {
        "colab": {
          "base_uri": "https://localhost:8080/"
        },
        "id": "hnOS4D7dXcwA",
        "outputId": "b19a1ac0-bb83-4f3c-b3c7-b8323d677d57"
      },
      "execution_count": 40,
      "outputs": [
        {
          "output_type": "stream",
          "name": "stdout",
          "text": [
            "Maximum element in the list1 is:  10\n",
            "Minimum element in the list1 is:  1\n",
            "Maximum element in the list3 is:  20\n",
            "Minimum element in the list3 is:  11\n",
            "Maximum element in the list3 is:  smiley\n",
            "Minimum element in the list3 is:  akshith\n",
            "Maximum element in the list4 is:  20641A6744\n",
            "Minimum element in the list4 is:  20641A6722\n"
          ]
        }
      ]
    }
  ]
}