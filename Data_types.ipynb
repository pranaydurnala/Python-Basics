{
  "nbformat": 4,
  "nbformat_minor": 0,
  "metadata": {
    "colab": {
      "provenance": [],
      "authorship_tag": "ABX9TyPh356bsW1wAGumjcW8qA4G",
      "include_colab_link": true
    },
    "kernelspec": {
      "name": "python3",
      "display_name": "Python 3"
    },
    "language_info": {
      "name": "python"
    }
  },
  "cells": [
    {
      "cell_type": "markdown",
      "metadata": {
        "id": "view-in-github",
        "colab_type": "text"
      },
      "source": [
        "<a href=\"https://colab.research.google.com/github/pranaydurnala/Python-Basics/blob/main/Data_types.ipynb\" target=\"_parent\"><img src=\"https://colab.research.google.com/assets/colab-badge.svg\" alt=\"Open In Colab\"/></a>"
      ]
    },
    {
      "cell_type": "code",
      "execution_count": 2,
      "metadata": {
        "colab": {
          "base_uri": "https://localhost:8080/"
        },
        "id": "PCUXLSegHKfR",
        "outputId": "7bcd53d9-8a5a-402e-bdea-7398cdb66ba7"
      },
      "outputs": [
        {
          "output_type": "stream",
          "name": "stdout",
          "text": [
            "20 30 10 10 27 70 25 30 35 45\n"
          ]
        }
      ],
      "source": [
        "#int data type\n",
        "a = 20\n",
        "b = 30\n",
        "c = 10\n",
        "d = 10\n",
        "e = 27\n",
        "f = 70\n",
        "num1 = 25\n",
        "num2 = 30\n",
        "num3 = 35\n",
        "num4 = 45\n",
        "\n",
        "print(a,b,c,d,e,f,num1,num2,num3,num4)\n",
        "\n"
      ]
    },
    {
      "cell_type": "code",
      "source": [
        "#float data type\n",
        "ze = 50.98\n",
        "tr = 78.0987\n",
        "yu = 675.9\n",
        "pr = 765.90\n",
        "mo = 659.87\n",
        "we = 43.768\n",
        "an = 679.9\n",
        "ay = 564780.9876\n",
        "ku = 76598.8790\n",
        "ma = 7659.987\n",
        "\n",
        "print(ze,tr,yu,pr,mo,we,an,ay,ku,ma)"
      ],
      "metadata": {
        "colab": {
          "base_uri": "https://localhost:8080/"
        },
        "id": "FcGUpyJ7IGhl",
        "outputId": "64835163-be83-4102-fb14-249d6571cf29"
      },
      "execution_count": 3,
      "outputs": [
        {
          "output_type": "stream",
          "name": "stdout",
          "text": [
            "50.98 78.0987 675.9 765.9 659.87 43.768 679.9 564780.9876 76598.879 7659.987\n"
          ]
        }
      ]
    },
    {
      "cell_type": "code",
      "source": [
        "#complex\n",
        "AB = 24+0j\n",
        "BC = 46+1j\n",
        "CD = 78+20j\n",
        "DE = 56+25j\n",
        "FG = 43+32j\n",
        "HI = 245+3456j\n",
        "GH = 23+23j\n",
        "JK = 23+21j\n",
        "LM = 46+45j\n",
        "DF = 222+23j\n",
        "\n",
        "print(AB,BC,CD,DE,FG,HI,GH,JK,LM,DF)"
      ],
      "metadata": {
        "colab": {
          "base_uri": "https://localhost:8080/"
        },
        "id": "CxwKbWRhKTG2",
        "outputId": "982b05a5-7159-407d-80cb-47b5be068ded"
      },
      "execution_count": 6,
      "outputs": [
        {
          "output_type": "stream",
          "name": "stdout",
          "text": [
            "(24+0j) (46+1j) (78+20j) (56+25j) (43+32j) (245+3456j) (23+23j) (23+21j) (46+45j) (222+23j)\n"
          ]
        }
      ]
    },
    {
      "cell_type": "code",
      "source": [
        "#Type conversions\n",
        "\n",
        "#int to float\n",
        "a = float(20)\n",
        "b = float(30)\n",
        "c = float(10)\n",
        "d = float(10)\n",
        "e = float(27)\n",
        "f = float(70)\n",
        "num1 = float(25)\n",
        "num2 = float(30)\n",
        "num3 = float(35)\n",
        "num4 = float(45)\n",
        "\n",
        "print(a,b,c,d,e,f,num1,num2,num3,num4)\n"
      ],
      "metadata": {
        "colab": {
          "base_uri": "https://localhost:8080/"
        },
        "id": "P-qnH988LyL_",
        "outputId": "1a24cdfb-5fc9-4e1c-a6d9-8bd16dd961ff"
      },
      "execution_count": 7,
      "outputs": [
        {
          "output_type": "stream",
          "name": "stdout",
          "text": [
            "20.0 30.0 10.0 10.0 27.0 70.0 25.0 30.0 35.0 45.0\n"
          ]
        }
      ]
    },
    {
      "cell_type": "code",
      "source": [],
      "metadata": {
        "id": "81tsnwDAM-fv"
      },
      "execution_count": null,
      "outputs": []
    },
    {
      "cell_type": "code",
      "source": [
        "#Type conversions\n",
        "\n",
        "#int to complex\n",
        "a = complex(20)\n",
        "b = complex(30)\n",
        "c = complex(10)\n",
        "d = complex(10)\n",
        "e = complex(27)\n",
        "f = complex(70)\n",
        "num1 = complex(25)\n",
        "num2 = complex(30)\n",
        "num3 = complex(35)\n",
        "num4 = complex(45)\n",
        "\n",
        "print(a,b,c,d,e,f,num1,num2,num3,num4)\n"
      ],
      "metadata": {
        "colab": {
          "base_uri": "https://localhost:8080/"
        },
        "outputId": "09c4db84-b16a-4a38-d882-7577074fece2",
        "id": "iFuSPPQ_NL7F"
      },
      "execution_count": 8,
      "outputs": [
        {
          "output_type": "stream",
          "name": "stdout",
          "text": [
            "(20+0j) (30+0j) (10+0j) (10+0j) (27+0j) (70+0j) (25+0j) (30+0j) (35+0j) (45+0j)\n"
          ]
        }
      ]
    },
    {
      "cell_type": "code",
      "source": [
        "ze = int(50.98)\n",
        "tr = int(78.0987)\n",
        "yu = int(675.9)\n",
        "pr = int(765.90)\n",
        "mo = int(659.87)\n",
        "we = int(43.768)\n",
        "an = int(679.9)\n",
        "ay = int(564780.9876)\n",
        "ku = int(76598.8790)\n",
        "ma = int(7659.987)\n",
        "\n",
        "print(ze,tr,yu,pr,mo,we,an,ay,ku,ma)"
      ],
      "metadata": {
        "colab": {
          "base_uri": "https://localhost:8080/"
        },
        "id": "JKyULmTiN4Xt",
        "outputId": "d3d9fbf0-c724-40a1-8524-97f0f2bf97b0"
      },
      "execution_count": 9,
      "outputs": [
        {
          "output_type": "stream",
          "name": "stdout",
          "text": [
            "50 78 675 765 659 43 679 564780 76598 7659\n"
          ]
        }
      ]
    },
    {
      "cell_type": "code",
      "source": [
        "ze = complex(50.98)\n",
        "tr = complex(78.0987)\n",
        "yu = complex(675.9)\n",
        "pr = complex(765.90)\n",
        "mo = complex(659.87)\n",
        "we = complex(43.768)\n",
        "an = complex(679.9)\n",
        "ay = complex(564780.9876)\n",
        "ku = complex(76598.8790)\n",
        "ma = complex(7659.987)\n",
        "\n",
        "print(ze,tr,yu,pr,mo,we,an,ay,ku,ma)"
      ],
      "metadata": {
        "colab": {
          "base_uri": "https://localhost:8080/"
        },
        "id": "ChWMqnyyOc_G",
        "outputId": "ff429810-028b-4f3a-e062-6a571aaec8fc"
      },
      "execution_count": 11,
      "outputs": [
        {
          "output_type": "stream",
          "name": "stdout",
          "text": [
            "(50.98+0j) (78.0987+0j) (675.9+0j) (765.9+0j) (659.87+0j) (43.768+0j) (679.9+0j) (564780.9876+0j) (76598.879+0j) (7659.987+0j)\n"
          ]
        }
      ]
    }
  ]
}