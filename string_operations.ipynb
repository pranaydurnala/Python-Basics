{
  "nbformat": 4,
  "nbformat_minor": 0,
  "metadata": {
    "colab": {
      "provenance": [],
      "authorship_tag": "ABX9TyNvsmX0pGNtM71lR2GBfB/Q",
      "include_colab_link": true
    },
    "kernelspec": {
      "name": "python3",
      "display_name": "Python 3"
    },
    "language_info": {
      "name": "python"
    }
  },
  "cells": [
    {
      "cell_type": "markdown",
      "metadata": {
        "id": "view-in-github",
        "colab_type": "text"
      },
      "source": [
        "<a href=\"https://colab.research.google.com/github/pranaydurnala/Python-Basics/blob/main/string_operations.ipynb\" target=\"_parent\"><img src=\"https://colab.research.google.com/assets/colab-badge.svg\" alt=\"Open In Colab\"/></a>"
      ]
    },
    {
      "cell_type": "code",
      "execution_count": null,
      "metadata": {
        "colab": {
          "base_uri": "https://localhost:8080/"
        },
        "id": "VkSUt-kGaZgj",
        "outputId": "b982b539-7010-47be-bac2-d104192a6530"
      },
      "outputs": [
        {
          "output_type": "stream",
          "name": "stdout",
          "text": [
            "pranay kumar durnala\n",
            "i love treavelling by flight\n"
          ]
        }
      ],
      "source": [
        "#concationation\n",
        "\n",
        "firstname = \"pranay\"\n",
        "middlename = \"kumar\"\n",
        "lastname = \"durnala\"\n",
        "fullname = firstname + \" \" + middlename + \" \" + lastname\n",
        "print(fullname)\n",
        "\n",
        "sentence1 = \"i love treavelling\"\n",
        "sentence2 = \"by flight\"\n",
        "full_sentence = sentence1 +\" \" + sentence2\n",
        "print(full_sentence)"
      ]
    },
    {
      "cell_type": "code",
      "source": [
        "#repetation\n",
        "sentence1 = \"i love travelling\"\n",
        "sentence2 = \"by flight \"\n",
        "full_sentence = sentence1 + \" \" + sentence2\n",
        "print(full_sentence)\n",
        "full_sentence * 3\n",
        "\n",
        "firstname = \"pranay\"\n",
        "middlename = \"kumar\"\n",
        "lastname = \"durnala \"\n",
        "fullname = firstname + \" \" + middlename + \" \" + lastname\n",
        "print(fullname)\n",
        "fullname * 4\n",
        "\n"
      ],
      "metadata": {
        "colab": {
          "base_uri": "https://localhost:8080/",
          "height": 70
        },
        "id": "m4Hsonx0cBXp",
        "outputId": "3e6f2b13-60e9-4f66-c71f-eff58c3f5032"
      },
      "execution_count": 21,
      "outputs": [
        {
          "output_type": "stream",
          "name": "stdout",
          "text": [
            "i love travelling by flight \n",
            "pranay kumar durnala \n"
          ]
        },
        {
          "output_type": "execute_result",
          "data": {
            "text/plain": [
              "'pranay kumar durnala pranay kumar durnala pranay kumar durnala pranay kumar durnala '"
            ],
            "application/vnd.google.colaboratory.intrinsic+json": {
              "type": "string"
            }
          },
          "metadata": {},
          "execution_count": 21
        }
      ]
    },
    {
      "cell_type": "code",
      "source": [
        "#index\n",
        "name = \"pranay\"\n",
        "print(name[3])\n",
        "\n",
        "fullname = \"pranay kumar durnala\"\n",
        "print(fullname[13])"
      ],
      "metadata": {
        "colab": {
          "base_uri": "https://localhost:8080/"
        },
        "id": "fFpX4Tglf5c1",
        "outputId": "ebb562b7-fbc4-47bb-c29e-445152e93f2c"
      },
      "execution_count": 23,
      "outputs": [
        {
          "output_type": "stream",
          "name": "stdout",
          "text": [
            "n\n",
            "d\n"
          ]
        }
      ]
    },
    {
      "cell_type": "code",
      "source": [
        "#slice\n",
        "\n",
        "name = \"pranay\"\n",
        "print(name[3:])\n",
        "\n",
        "fullname = \"pranay kumar durnala\"\n",
        "print(fullname[:-13])"
      ],
      "metadata": {
        "colab": {
          "base_uri": "https://localhost:8080/"
        },
        "id": "w5Nxwzv2hcUy",
        "outputId": "addf8a53-2e69-40db-9103-9a640ed1fc7f"
      },
      "execution_count": 25,
      "outputs": [
        {
          "output_type": "stream",
          "name": "stdout",
          "text": [
            "nay\n",
            "pranay \n"
          ]
        }
      ]
    },
    {
      "cell_type": "code",
      "source": [
        "#Formating String\n",
        "#1) Old style format\n",
        "company = \"accenture\"\n",
        "location = \"Hyderabad\"\n",
        "formatted_string = \"I have been working in %s at %s for 2 years.\"%(company,location)\n",
        "print(formatted_string)\n",
        "\n",
        "institute = \"teks academy\"\n",
        "years = 15\n",
        "formatted_string = \"There is a institute called %s since %d years.\"%(institute,years)\n",
        "print(formatted_string)\n",
        "\n",
        "name = \"pranay\"\n",
        "age = 22\n",
        "formatted_string = \"my name is %s and i am %d years old.\"%(name,age)\n",
        "print(formatted_string)\n",
        "\n",
        "#2) format method\n",
        "vechicle = \"bike\"\n",
        "time = 2\n",
        "formatted_string = \"I have went to college on my {} within {} hours.\".format(vechicle,time)\n",
        "print(formatted_string)\n",
        "\n",
        "no_of_fruits = \"three\"\n",
        "types_of_fruits = \"apples\"\n",
        "formatted_string = \"He ate all the {} {}.\".format(no_of_fruits,types_of_fruits)\n",
        "print(formatted_string)\n",
        "\n",
        "#3) String interpolation (f-string)\n",
        "place = \"AMB mall\"\n",
        "no_of_people = 200\n",
        "formatted_string = f\"There are {no_of_people} members inside the {place}.\"\n",
        "print(formatted_string)\n",
        "\n",
        "jobs = 10\n",
        "competition = \"lot of people\"\n",
        "formatted_string = f\"There are {competition} for just {jobs} openings.\"\n",
        "print(formatted_string)"
      ],
      "metadata": {
        "colab": {
          "base_uri": "https://localhost:8080/"
        },
        "id": "Kc9D6xVchpBd",
        "outputId": "21c1afe9-b992-4a9b-bc22-794c7a558b26"
      },
      "execution_count": 26,
      "outputs": [
        {
          "output_type": "stream",
          "name": "stdout",
          "text": [
            "I have been working in accenture at Hyderabad for 2 years.\n",
            "There is a institute called teks academy since 15 years.\n",
            "my name is pranay and i am 22 years old.\n",
            "I have went to college on my bike within 2 hours.\n",
            "He ate all the three apples.\n",
            "There are 200 members inside the AMB mall.\n",
            "There are lot of people for just 10 openings.\n"
          ]
        }
      ]
    },
    {
      "cell_type": "code",
      "source": [
        "#String Method\n",
        "#1) len()\n",
        "Name = \"Pranay Kanchanakuntla\"\n",
        "length = len(Name)\n",
        "print(length)\n",
        "\n",
        "Location = \"My current location is Hyderabad\"\n",
        "length = len(Location)\n",
        "print(length)\n",
        "\n",
        "#2) lower() / upper()\n",
        "my_string = \"i am leaving Hyderabad\"\n",
        "print(my_string.upper())\n",
        "\n",
        "name = \"pranay\"\n",
        "uppercase = my_string.upper()\n",
        "print(uppercase)\n",
        "\n",
        "skill = \"I HAVE GOOD KNOWLEDGE IN PYTHOM\"\n",
        "print(skill.lower())\n",
        "\n",
        "sports = \"I PLAY CRICKET WELL\"\n",
        "print(sports.lower())\n",
        "\n",
        "\n",
        "#3) Strip()\n",
        "Village = \" Sriramulapally      \"\n",
        "print(Village.strip())\n",
        "\n",
        "abc = \"   we are good friends     \"\n",
        "print(abc.strip())\n",
        "\n",
        "#4) Replace\n",
        "City = \"I am in Hanamkonda\"\n",
        "new_string = City.replace(\"Hanamkonda\",\"Hydearabad\")\n",
        "print(new_string)\n",
        "\n",
        "skills = \"I have good idea on Python and SQL\"\n",
        "print(skills.replace(\"idea on\",\"knowledge in\"))\n",
        "\n",
        "#5) Spilt()\n",
        "about = \"Life has no Controls\"\n",
        "print(about.split())\n",
        "\n",
        "location = \"I have been living in Hanamkonda for 22 years\"\n",
        "print(location.split())\n",
        "\n",
        "#6) join()\n",
        "about = ['Life', 'has', 'no', 'Controls']\n",
        "join_str = \" \".join(about)\n",
        "print(join_str)\n",
        "\n",
        "location = ['I', 'have', 'been', 'living', 'in', 'Hanamkonda', 'for', '22', 'years']\n",
        "print(' '.join(location))\n"
      ],
      "metadata": {
        "colab": {
          "base_uri": "https://localhost:8080/"
        },
        "id": "3dc6u0RQh147",
        "outputId": "7d29d3cb-e1a0-4d34-ee23-d9db62cadcdc"
      },
      "execution_count": 32,
      "outputs": [
        {
          "output_type": "stream",
          "name": "stdout",
          "text": [
            "21\n",
            "32\n",
            "I AM LEAVING HYDERABAD\n",
            "I AM LEAVING HYDERABAD\n",
            "i have good knowledge in pythom\n",
            "i play cricket well\n",
            "Sriramulapally\n",
            "we are good friends\n",
            "I am in Hydearabad\n",
            "I have good knowledge in Python and SQL\n",
            "['Life', 'has', 'no', 'Cntrl+Z']\n",
            "['I', 'have', 'been', 'living', 'in', 'Hanamkonda', 'for', '22', 'years']\n",
            "Life has no Controls\n",
            "I have been living in Hanamkonda for 22 years\n"
          ]
        }
      ]
    }
  ]
}