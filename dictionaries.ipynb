{
  "nbformat": 4,
  "nbformat_minor": 0,
  "metadata": {
    "colab": {
      "provenance": [],
      "authorship_tag": "ABX9TyNMPzB+nPUpluSZ58qOPyVc",
      "include_colab_link": true
    },
    "kernelspec": {
      "name": "python3",
      "display_name": "Python 3"
    },
    "language_info": {
      "name": "python"
    }
  },
  "cells": [
    {
      "cell_type": "markdown",
      "metadata": {
        "id": "view-in-github",
        "colab_type": "text"
      },
      "source": [
        "<a href=\"https://colab.research.google.com/github/pranaydurnala/Python-Basics/blob/main/dictionaries.ipynb\" target=\"_parent\"><img src=\"https://colab.research.google.com/assets/colab-badge.svg\" alt=\"Open In Colab\"/></a>"
      ]
    },
    {
      "cell_type": "code",
      "execution_count": 4,
      "metadata": {
        "colab": {
          "base_uri": "https://localhost:8080/"
        },
        "id": "BXPpsCga1zSt",
        "outputId": "351b36b0-e8f7-458c-9c33-d4a6d5dab847"
      },
      "outputs": [
        {
          "output_type": "stream",
          "name": "stdout",
          "text": [
            "{'name': 'pranay kumar', 'age': 22, 'gender': 'male'}\n",
            "{'city': ' warangal', 'state': 'telangana', 'pincode': 506002}\n",
            "{'fathers_name': 'vijay kumar', 'mobile_num': 9618613731}\n"
          ]
        }
      ],
      "source": [
        "#dictionary\n",
        "\n",
        "d1 = {\"name\" : \"pranay kumar\", \"age\" : 22, \"gender\" : \"male\"}\n",
        "print(d1)\n",
        "\n",
        "d2 = {\"city\": \" warangal\", \"state\" : \"telangana\",\"pincode\" : 506002}\n",
        "print(d2)\n",
        "\n",
        "d3 = {\"fathers_name\" : \"vijay kumar\",\"mobile_num\" : 9618613731}\n",
        "print(d3)"
      ]
    },
    {
      "cell_type": "code",
      "source": [
        "#accessing items\n",
        "#get() is used to get values that are assigned to the keys\n",
        "\n",
        "car = {\n",
        "    \"carname\" : \"mustang\",\n",
        "    \"company\" : \"ford\",\n",
        "    \"year\" : 1965\n",
        "}\n",
        "print(car.get(\"carname\"))\n",
        "\n",
        "dict2 = {\n",
        "    \"firstname\" : \"pranay\",\n",
        "    \"middlename\" : \"kumar\",\n",
        "    \"lastname\" : \"durnala\"\n",
        "}\n",
        "print(dict2.get(\"firstname\"))\n",
        "\n",
        "dict3 = {\n",
        "    'name': 'John',\n",
        "    'age': 30,\n",
        "    'city': 'New York'\n",
        "    }\n",
        "\n",
        "print(dict3.get('name'))\n",
        "print(dict3.get('age'))\n",
        "print(dict3.get('city'))\n",
        "\n",
        "dict5 = {\n",
        "    \"school\" : \"greenwood high school\",\n",
        "    \"intermediate\" : \"alphores junior college\",\n",
        "    \"btech\" : \"vaagdevi college of engineering\"\n",
        "}\n",
        "print(dict5.get('btech'))\n",
        "\n",
        "dict6 = {\n",
        "    \"school location\" : \"hunter road\",\n",
        "    \"inter location\" : \"hanamkonda\",\n",
        "    \"btech location\" : \"bollikunta\"\n",
        "}\n",
        "\n",
        "print(dict6.get(\"school location\"))\n",
        "\n",
        "\n",
        "dict4 = {\n",
        "    \"firstname\" : \"pranay\",\n",
        "    \"middlename\" : \"kumar\",\n",
        "    \"lastname\" : \"durnala\"\n",
        "}\n",
        "print(dict4)\n",
        "\n",
        "#adding of another key in the dictionary\n",
        "dict4[\"age\"] = 22\n",
        "print(dict4)\n",
        "\n",
        "dict4[\"gender\"] = \"male\"\n",
        "print(dict4)\n",
        "\n",
        "dict4[\"bloodgroup\"] = \"ab+\"\n",
        "print(dict4)\n",
        "\n",
        "#dict3\n",
        "dict3[\"state\"] = \"losangles\"\n",
        "print(dict3)\n",
        "\n",
        "#keys()\n",
        "print(dict2.keys())\n",
        "print(dict3.keys())\n",
        "print(dict4.keys())\n",
        "print(dict5.keys())\n",
        "print(dict6.keys())\n",
        "\n",
        "#values()\n",
        "print(dict2.values())\n",
        "print(dict3.values())\n",
        "print(dict4.values())\n",
        "print(dict5.values())\n",
        "print(dict6.values())\n",
        "\n"
      ],
      "metadata": {
        "colab": {
          "base_uri": "https://localhost:8080/"
        },
        "id": "jktl1Y-12Wqs",
        "outputId": "3ad42f80-6f0b-46db-d37e-423d0fad1d29"
      },
      "execution_count": 4,
      "outputs": [
        {
          "output_type": "stream",
          "name": "stdout",
          "text": [
            "mustang\n",
            "pranay\n",
            "John\n",
            "30\n",
            "New York\n",
            "vaagdevi college of engineering\n",
            "hunter road\n",
            "{'firstname': 'pranay', 'middlename': 'kumar', 'lastname': 'durnala'}\n",
            "{'firstname': 'pranay', 'middlename': 'kumar', 'lastname': 'durnala', 'age': 22}\n",
            "{'firstname': 'pranay', 'middlename': 'kumar', 'lastname': 'durnala', 'age': 22, 'gender': 'male'}\n",
            "{'firstname': 'pranay', 'middlename': 'kumar', 'lastname': 'durnala', 'age': 22, 'gender': 'male', 'bloodgroup': 'ab+'}\n",
            "{'name': 'John', 'age': 30, 'city': 'New York', 'state': 'losangles'}\n",
            "dict_keys(['firstname', 'middlename', 'lastname'])\n",
            "dict_keys(['name', 'age', 'city', 'state'])\n",
            "dict_keys(['firstname', 'middlename', 'lastname', 'age', 'gender', 'bloodgroup'])\n",
            "dict_keys(['school', 'intermediate', 'btech'])\n",
            "dict_keys(['school location', 'inter location', 'btech location'])\n",
            "dict_values(['pranay', 'kumar', 'durnala'])\n",
            "dict_values(['John', 30, 'New York', 'losangles'])\n",
            "dict_values(['pranay', 'kumar', 'durnala', 22, 'male', 'ab+'])\n",
            "dict_values(['greenwood high school', 'alphores junior college', 'vaagdevi college of engineering'])\n",
            "dict_values(['hunter road', 'hanamkonda', 'bollikunta'])\n"
          ]
        }
      ]
    },
    {
      "cell_type": "code",
      "source": [
        "#update()\n",
        "d3 = {\n",
        "    \"fathername\":\"vijaykumar\",\n",
        "    \"mobilenum\":\"098678908\"\n",
        "}\n",
        "new_entry ={\"surname\" : \"durnala\"}\n",
        "d3.update(new_entry)\n",
        "print(d3)\n",
        "\n",
        "d4 = {\n",
        "    \"school location\" : \"hunter road\",\n",
        "    \"inter location\" : \"hanamkonda\",\n",
        "    \"btech location\" : \"bollikunta\"\n",
        "}\n",
        "\n",
        "d4_new_entry = {\"masters_location\" : \"united states\"}\n",
        "d4.update(d4_new_entry)\n",
        "print(d4)\n"
      ],
      "metadata": {
        "colab": {
          "base_uri": "https://localhost:8080/"
        },
        "id": "s8sdhJFAyCKX",
        "outputId": "a50f067c-a0d8-4464-9fab-91d0e8c108bd"
      },
      "execution_count": 20,
      "outputs": [
        {
          "output_type": "stream",
          "name": "stdout",
          "text": [
            "{'fathername': 'vijaykumar', 'mobilenum': '098678908', 'surname': 'durnala'}\n",
            "{'school location': 'hunter road', 'inter location': 'hanamkonda', 'btech location': 'bollikunta', 'masters_location': 'united states'}\n"
          ]
        }
      ]
    },
    {
      "cell_type": "code",
      "source": [
        "#pop()\n",
        "my_dict = {'a': 1, 'b': 2, 'c': 3}\n",
        "my_dict.pop(\"a\")\n",
        "print(my_dict)\n",
        "\n",
        "dict10 = {\n",
        "  \"brand\": \"Ford\",\n",
        "  \"model\": \"Mustang\",\n",
        "  \"year\": 1964\n",
        "}\n",
        "dict10.pop(\"year\")\n",
        "print(dict10)\n",
        "\n",
        "dict11 = {\n",
        "  \"brand\": \"Ford\",\n",
        "  \"model\": \"Mustang\",\n",
        "  \"year\": 1964\n",
        "}\n",
        "dict10.pop(\"model\")\n",
        "print(dict11)"
      ],
      "metadata": {
        "colab": {
          "base_uri": "https://localhost:8080/"
        },
        "id": "9Siw1oxJc9Wr",
        "outputId": "26d80b56-5f81-4cdc-d92c-4e03777e4f9c"
      },
      "execution_count": 24,
      "outputs": [
        {
          "output_type": "stream",
          "name": "stdout",
          "text": [
            "{'b': 2, 'c': 3}\n",
            "{'brand': 'Ford', 'model': 'Mustang'}\n",
            "{'brand': 'Ford', 'model': 'Mustang', 'year': 1964}\n"
          ]
        }
      ]
    },
    {
      "cell_type": "code",
      "source": [
        "#popitem()\n",
        "#removes last item entered in the dictionary\n",
        "my_dict = {'a': 1, 'b': 2, 'c': 3}\n",
        "my_dict.popitem()\n",
        "print(my_dict)\n",
        "\n",
        "dict10 = {\n",
        "  \"brand\": \"Ford\",\n",
        "  \"model\": \"Mustang\",\n",
        "  \"year\": 1964\n",
        "}\n",
        "dict10.popitem()\n",
        "print(dict10)\n",
        "\n",
        "dict11 = {\n",
        "  \"brand\": \"Ford\",\n",
        "  \"model\": \"Mustang\",\n",
        "  \"year\": 1964\n",
        "}\n",
        "dict11.popitem()\n",
        "print(dict11)"
      ],
      "metadata": {
        "colab": {
          "base_uri": "https://localhost:8080/"
        },
        "id": "qYdXd0u9v0vN",
        "outputId": "dd169b7c-b69e-4231-d097-eb29e7020912"
      },
      "execution_count": 26,
      "outputs": [
        {
          "output_type": "stream",
          "name": "stdout",
          "text": [
            "{'a': 1, 'b': 2}\n",
            "{'brand': 'Ford', 'model': 'Mustang'}\n",
            "{'brand': 'Ford', 'model': 'Mustang'}\n"
          ]
        }
      ]
    },
    {
      "cell_type": "code",
      "source": [
        "#copy()\n",
        "\n",
        "my_dict = {'a': 1, 'b': 2, 'c': 3}\n",
        "new_dict=my_dict.copy()\n",
        "print(new_dict)"
      ],
      "metadata": {
        "colab": {
          "base_uri": "https://localhost:8080/"
        },
        "id": "RQwyiqtnwXiX",
        "outputId": "804511e0-f656-4331-ac9f-ecc59e7d57e5"
      },
      "execution_count": 31,
      "outputs": [
        {
          "output_type": "stream",
          "name": "stdout",
          "text": [
            "{'a': 1, 'b': 2, 'c': 3}\n"
          ]
        }
      ]
    },
    {
      "cell_type": "code",
      "source": [
        "#clear()\n",
        "#clears all the keys and values in the dicionary\n",
        "thisdict = {\n",
        "  \"brand\": \"Ford\",\n",
        "  \"model\": \"Mustang\",\n",
        "  \"year\": 1964\n",
        "}\n",
        "thisdict.clear()\n",
        "print(thisdict)"
      ],
      "metadata": {
        "colab": {
          "base_uri": "https://localhost:8080/"
        },
        "id": "qzX78UFww_QQ",
        "outputId": "9d8a5102-375b-4794-f12e-cb13b2c017e3"
      },
      "execution_count": 32,
      "outputs": [
        {
          "output_type": "stream",
          "name": "stdout",
          "text": [
            "{}\n"
          ]
        }
      ]
    }
  ]
}