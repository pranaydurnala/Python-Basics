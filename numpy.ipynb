{
  "nbformat": 4,
  "nbformat_minor": 0,
  "metadata": {
    "colab": {
      "provenance": [],
      "authorship_tag": "ABX9TyM4tIOXCm00YMzg/9tmve3O",
      "include_colab_link": true
    },
    "kernelspec": {
      "name": "python3",
      "display_name": "Python 3"
    },
    "language_info": {
      "name": "python"
    }
  },
  "cells": [
    {
      "cell_type": "markdown",
      "metadata": {
        "id": "view-in-github",
        "colab_type": "text"
      },
      "source": [
        "<a href=\"https://colab.research.google.com/github/pranaydurnala/Python-Basics/blob/main/numpy.ipynb\" target=\"_parent\"><img src=\"https://colab.research.google.com/assets/colab-badge.svg\" alt=\"Open In Colab\"/></a>"
      ]
    },
    {
      "cell_type": "code",
      "execution_count": null,
      "metadata": {
        "colab": {
          "base_uri": "https://localhost:8080/"
        },
        "id": "a2bduEMxHG4o",
        "outputId": "168653a6-2588-4818-8678-177c27db1e4c"
      },
      "outputs": [
        {
          "output_type": "stream",
          "name": "stdout",
          "text": [
            "Requirement already satisfied: numpy in /usr/local/lib/python3.10/dist-packages (1.26.4)\n"
          ]
        }
      ],
      "source": [
        "!pip install numpy"
      ]
    },
    {
      "cell_type": "code",
      "source": [
        "import numpy as np\n",
        "#creating 1D array\n",
        "a = np.array([1,2,3])\n",
        "print(a)"
      ],
      "metadata": {
        "colab": {
          "base_uri": "https://localhost:8080/"
        },
        "id": "5Z50V1qsHVfV",
        "outputId": "b5b57076-f041-4f24-9e7e-b0adbe16cec0"
      },
      "execution_count": null,
      "outputs": [
        {
          "output_type": "stream",
          "name": "stdout",
          "text": [
            "[1 2 3]\n"
          ]
        }
      ]
    },
    {
      "cell_type": "code",
      "source": [
        "#2D array\n",
        "b = np.array([(5,6,7),(8,9,10)])\n",
        "print(b)"
      ],
      "metadata": {
        "colab": {
          "base_uri": "https://localhost:8080/"
        },
        "id": "Pr48UyXNI5wE",
        "outputId": "c4f4bf4c-e6f1-4f3b-e509-ff7bc5095e42"
      },
      "execution_count": null,
      "outputs": [
        {
          "output_type": "stream",
          "name": "stdout",
          "text": [
            "[[ 5  6  7]\n",
            " [ 8  9 10]]\n"
          ]
        }
      ]
    },
    {
      "cell_type": "code",
      "source": [
        "#3d array\n",
        "c = np.array([[(1,2,3),(4,5,6)],[(7,8,9),(10,11,12)]])\n",
        "print(c)"
      ],
      "metadata": {
        "colab": {
          "base_uri": "https://localhost:8080/"
        },
        "id": "yLd0IDLGJM9G",
        "outputId": "b55ecd17-2546-4f6e-b93f-25cfa733922b"
      },
      "execution_count": null,
      "outputs": [
        {
          "output_type": "stream",
          "name": "stdout",
          "text": [
            "[[[ 1  2  3]\n",
            "  [ 4  5  6]]\n",
            "\n",
            " [[ 7  8  9]\n",
            "  [10 11 12]]]\n"
          ]
        }
      ]
    },
    {
      "cell_type": "code",
      "source": [
        "#initial place holders\n",
        "#2d array\n",
        "np.zeros((3,4))"
      ],
      "metadata": {
        "colab": {
          "base_uri": "https://localhost:8080/"
        },
        "id": "Uio3n5O6KcEe",
        "outputId": "d93baef0-4238-4e8c-86c6-45b162835b78"
      },
      "execution_count": null,
      "outputs": [
        {
          "output_type": "execute_result",
          "data": {
            "text/plain": [
              "array([[0., 0., 0., 0.],\n",
              "       [0., 0., 0., 0.],\n",
              "       [0., 0., 0., 0.]])"
            ]
          },
          "metadata": {},
          "execution_count": 12
        }
      ]
    },
    {
      "cell_type": "code",
      "source": [
        "np.ones((3,3,4))"
      ],
      "metadata": {
        "colab": {
          "base_uri": "https://localhost:8080/"
        },
        "id": "ACX5FL65K9wg",
        "outputId": "5b32775e-69b8-4514-dba6-d6d34fdaa9cb"
      },
      "execution_count": null,
      "outputs": [
        {
          "output_type": "execute_result",
          "data": {
            "text/plain": [
              "array([[[1., 1., 1., 1.],\n",
              "        [1., 1., 1., 1.],\n",
              "        [1., 1., 1., 1.]],\n",
              "\n",
              "       [[1., 1., 1., 1.],\n",
              "        [1., 1., 1., 1.],\n",
              "        [1., 1., 1., 1.]],\n",
              "\n",
              "       [[1., 1., 1., 1.],\n",
              "        [1., 1., 1., 1.],\n",
              "        [1., 1., 1., 1.]]])"
            ]
          },
          "metadata": {},
          "execution_count": 24
        }
      ]
    },
    {
      "cell_type": "code",
      "source": [
        "#create an array of evenly spaced values(stepvalues)\n",
        "d = np.arange(10,25,3)\n",
        "print(d)"
      ],
      "metadata": {
        "colab": {
          "base_uri": "https://localhost:8080/"
        },
        "id": "TUTwkwIcLPEQ",
        "outputId": "39c7268c-5dd4-465e-8278-9b03977e3443"
      },
      "execution_count": null,
      "outputs": [
        {
          "output_type": "stream",
          "name": "stdout",
          "text": [
            "[10 13 16 19 22]\n"
          ]
        }
      ]
    },
    {
      "cell_type": "code",
      "source": [
        "#array of evenly spaced values\n",
        "uni = np.linspace(10,80,10)\n",
        "print(uni)\n"
      ],
      "metadata": {
        "colab": {
          "base_uri": "https://localhost:8080/"
        },
        "id": "2GBM-t7FLzFc",
        "outputId": "ebe5c7ed-b423-49b2-9100-72b33409784b"
      },
      "execution_count": null,
      "outputs": [
        {
          "output_type": "stream",
          "name": "stdout",
          "text": [
            "[10.         17.77777778 25.55555556 33.33333333 41.11111111 48.88888889\n",
            " 56.66666667 64.44444444 72.22222222 80.        ]\n"
          ]
        }
      ]
    },
    {
      "cell_type": "code",
      "source": [
        "d = np.array([[[3,5,6],[4,6,7]],\n",
        "              [[3,5,6],[4,6,7]],\n",
        "              [[6,6,4],[4,8,9]]])\n",
        "\n",
        "print(d)"
      ],
      "metadata": {
        "colab": {
          "base_uri": "https://localhost:8080/"
        },
        "id": "6r9co3iLNtlo",
        "outputId": "e75dd603-8dc9-4cbd-991a-21a0fb874f74"
      },
      "execution_count": null,
      "outputs": [
        {
          "output_type": "stream",
          "name": "stdout",
          "text": [
            "[[[3 5 6]\n",
            "  [4 6 7]]\n",
            "\n",
            " [[3 5 6]\n",
            "  [4 6 7]]\n",
            "\n",
            " [[6 6 4]\n",
            "  [4 8 9]]]\n"
          ]
        }
      ]
    },
    {
      "cell_type": "code",
      "source": [
        "import numpy as np\n",
        "e = np.array([[[2,5],[8,9]],[[30,50],[80,90]]])\n",
        "print(e)"
      ],
      "metadata": {
        "colab": {
          "base_uri": "https://localhost:8080/"
        },
        "id": "V5tJNA4cN7xf",
        "outputId": "d58b7081-6ba8-47c2-e6fa-6daecfdab3c2"
      },
      "execution_count": null,
      "outputs": [
        {
          "output_type": "stream",
          "name": "stdout",
          "text": [
            "[[[ 2  5]\n",
            "  [ 8  9]]\n",
            "\n",
            " [[30 50]\n",
            "  [80 90]]]\n"
          ]
        }
      ]
    },
    {
      "cell_type": "code",
      "source": [
        "f = np.array([[90,80],[90,80]])\n",
        "print(f)"
      ],
      "metadata": {
        "colab": {
          "base_uri": "https://localhost:8080/"
        },
        "id": "jeT5NbfnN9Y2",
        "outputId": "0d208791-d679-48b9-ecde-f183bc740fd2"
      },
      "execution_count": null,
      "outputs": [
        {
          "output_type": "stream",
          "name": "stdout",
          "text": [
            "[[90 80]\n",
            " [90 80]]\n"
          ]
        }
      ]
    },
    {
      "cell_type": "code",
      "source": [
        "z = np.array([[[30,40],[90,40]],[[30,30],[60,60]]])\n",
        "print(z)\n",
        "z.ndim"
      ],
      "metadata": {
        "colab": {
          "base_uri": "https://localhost:8080/"
        },
        "id": "cza9StKemxeX",
        "outputId": "eba85814-dcdd-4514-90fe-83f201f5c8a2"
      },
      "execution_count": null,
      "outputs": [
        {
          "output_type": "stream",
          "name": "stdout",
          "text": [
            "[[[30 40]\n",
            "  [90 40]]\n",
            "\n",
            " [[30 30]\n",
            "  [60 60]]]\n"
          ]
        },
        {
          "output_type": "execute_result",
          "data": {
            "text/plain": [
              "3"
            ]
          },
          "metadata": {},
          "execution_count": 20
        }
      ]
    },
    {
      "cell_type": "code",
      "source": [
        "#creating random arrays\n",
        "np.random.randint([[[10,2],[20,90]],[[20,30],[20,10]]])"
      ],
      "metadata": {
        "colab": {
          "base_uri": "https://localhost:8080/"
        },
        "id": "2DPsaNneot-X",
        "outputId": "0fb29263-d534-41d6-c0ad-fff10bde1d24"
      },
      "execution_count": null,
      "outputs": [
        {
          "output_type": "execute_result",
          "data": {
            "text/plain": [
              "array([[[ 4,  0],\n",
              "        [ 1, 73]],\n",
              "\n",
              "       [[ 3,  1],\n",
              "        [ 7,  8]]])"
            ]
          },
          "metadata": {},
          "execution_count": 57
        }
      ]
    },
    {
      "cell_type": "code",
      "source": [
        "#creating random arrays\n",
        "np.random.random((2,3))"
      ],
      "metadata": {
        "colab": {
          "base_uri": "https://localhost:8080/"
        },
        "id": "9UZgzcCmqcF6",
        "outputId": "b5c1f9a8-97a2-4045-9984-ef9ea98694fb"
      },
      "execution_count": null,
      "outputs": [
        {
          "output_type": "execute_result",
          "data": {
            "text/plain": [
              "array([[0.82271103, 0.50456169, 0.25414958],\n",
              "       [0.79561195, 0.23647528, 0.19197174]])"
            ]
          },
          "metadata": {},
          "execution_count": 58
        }
      ]
    },
    {
      "cell_type": "code",
      "source": [
        "#creating 1D array with same numbers\n",
        "e = np.full((5),9)\n",
        "e"
      ],
      "metadata": {
        "colab": {
          "base_uri": "https://localhost:8080/"
        },
        "id": "pt-xNE-9qkif",
        "outputId": "bff70f3f-e873-4ff1-b7a6-62d8566f1ce0"
      },
      "execution_count": null,
      "outputs": [
        {
          "output_type": "execute_result",
          "data": {
            "text/plain": [
              "array([9, 9, 9, 9, 9])"
            ]
          },
          "metadata": {},
          "execution_count": 62
        }
      ]
    },
    {
      "cell_type": "code",
      "source": [
        "#creating 2D array with same numbers\n",
        "x = np.full((2,3),5)\n",
        "x"
      ],
      "metadata": {
        "colab": {
          "base_uri": "https://localhost:8080/"
        },
        "id": "P9LHc9q3q-uZ",
        "outputId": "8cc6c59b-b324-4fad-8e6b-e3db3a0226f2"
      },
      "execution_count": null,
      "outputs": [
        {
          "output_type": "execute_result",
          "data": {
            "text/plain": [
              "array([[5, 5, 5],\n",
              "       [5, 5, 5]])"
            ]
          },
          "metadata": {},
          "execution_count": 66
        }
      ]
    },
    {
      "cell_type": "code",
      "source": [
        "#creating 3D array with same numbers\n",
        "z = np.full((1,2,3),7)\n",
        "z"
      ],
      "metadata": {
        "colab": {
          "base_uri": "https://localhost:8080/"
        },
        "id": "tUgtvbqcrTGm",
        "outputId": "02be6497-9387-430c-cec4-d656de98225d"
      },
      "execution_count": null,
      "outputs": [
        {
          "output_type": "execute_result",
          "data": {
            "text/plain": [
              "array([[[7, 7, 7],\n",
              "        [7, 7, 7]]])"
            ]
          },
          "metadata": {},
          "execution_count": 78
        }
      ]
    },
    {
      "cell_type": "code",
      "source": [
        "#shape of an array\n",
        "z = np.array([\n",
        "    [[30,40],[90,40]],\n",
        "    [[30,30],[60,60]]\n",
        "    ])\n",
        "print(z)\n",
        "print(z.shape)"
      ],
      "metadata": {
        "colab": {
          "base_uri": "https://localhost:8080/"
        },
        "id": "HfR6qFNmsYEG",
        "outputId": "e7aa0014-1ed9-4840-cc46-eeb5597a24e2"
      },
      "execution_count": null,
      "outputs": [
        {
          "output_type": "stream",
          "name": "stdout",
          "text": [
            "[[[30 40]\n",
            "  [90 40]]\n",
            "\n",
            " [[30 30]\n",
            "  [60 60]]]\n",
            "(2, 2, 2)\n"
          ]
        }
      ]
    },
    {
      "cell_type": "code",
      "source": [
        "#size of an array\n",
        "z = np.array([\n",
        "    [[30,40],[90,40]],\n",
        "    [[30,30],[60,60]]\n",
        "    ])\n",
        "print(z)\n",
        "print(z.size)"
      ],
      "metadata": {
        "colab": {
          "base_uri": "https://localhost:8080/"
        },
        "id": "ttwjXmLrtG7N",
        "outputId": "58949397-ff85-4c47-800b-5cb2c5a31e9c"
      },
      "execution_count": null,
      "outputs": [
        {
          "output_type": "stream",
          "name": "stdout",
          "text": [
            "[[[30 40]\n",
            "  [90 40]]\n",
            "\n",
            " [[30 30]\n",
            "  [60 60]]]\n",
            "8\n"
          ]
        }
      ]
    },
    {
      "cell_type": "code",
      "source": [
        "#len of an array\n",
        "z = np.array([\n",
        "    [[30,40],[90,40]],\n",
        "    [[30,30],[60,60]]\n",
        "    ])\n",
        "print(z)\n",
        "len(z)"
      ],
      "metadata": {
        "colab": {
          "base_uri": "https://localhost:8080/"
        },
        "id": "QBNcr6rgtn5E",
        "outputId": "753b10fd-2638-428e-b591-a09baf3b0db6"
      },
      "execution_count": null,
      "outputs": [
        {
          "output_type": "stream",
          "name": "stdout",
          "text": [
            "[[[30 40]\n",
            "  [90 40]]\n",
            "\n",
            " [[30 30]\n",
            "  [60 60]]]\n"
          ]
        },
        {
          "output_type": "execute_result",
          "data": {
            "text/plain": [
              "2"
            ]
          },
          "metadata": {},
          "execution_count": 85
        }
      ]
    }
  ]
}