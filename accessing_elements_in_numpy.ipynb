{
  "nbformat": 4,
  "nbformat_minor": 0,
  "metadata": {
    "colab": {
      "provenance": [],
      "authorship_tag": "ABX9TyMfLV6MYswYfm26B3uCbKRY",
      "include_colab_link": true
    },
    "kernelspec": {
      "name": "python3",
      "display_name": "Python 3"
    },
    "language_info": {
      "name": "python"
    }
  },
  "cells": [
    {
      "cell_type": "markdown",
      "metadata": {
        "id": "view-in-github",
        "colab_type": "text"
      },
      "source": [
        "<a href=\"https://colab.research.google.com/github/pranaydurnala/Python-Basics/blob/main/accessing_elements_in_numpy.ipynb\" target=\"_parent\"><img src=\"https://colab.research.google.com/assets/colab-badge.svg\" alt=\"Open In Colab\"/></a>"
      ]
    },
    {
      "cell_type": "code",
      "execution_count": 4,
      "metadata": {
        "colab": {
          "base_uri": "https://localhost:8080/"
        },
        "id": "7Ejfp6Hub0ii",
        "outputId": "e2577889-5768-4ca9-c46d-719adfa51587"
      },
      "outputs": [
        {
          "output_type": "stream",
          "name": "stdout",
          "text": [
            "3\n"
          ]
        }
      ],
      "source": [
        "import numpy as np\n",
        "#accessing array with index position\n",
        "arr = np.array([1,2,3,4,5])\n",
        "print(arr[2])"
      ]
    },
    {
      "cell_type": "code",
      "source": [
        "#Add two index positions\n",
        "\n",
        "arr = np.array([1,2,3,4,5])\n",
        "print(arr[2]+arr[3]-arr[1])"
      ],
      "metadata": {
        "colab": {
          "base_uri": "https://localhost:8080/"
        },
        "id": "sRtBHNOXc0LD",
        "outputId": "9361ddda-a96d-472a-8991-4b9263d6dd6d"
      },
      "execution_count": 5,
      "outputs": [
        {
          "output_type": "stream",
          "name": "stdout",
          "text": [
            "5\n"
          ]
        }
      ]
    },
    {
      "cell_type": "code",
      "source": [
        "#access 3d elements\n",
        "\n",
        "arr = np.array([[[1,2,3],[4,5,6]],[[7,8,9],[10,11,12]]])\n",
        "print(arr[1,0,2])\n",
        "\n",
        "xyz = np.array([[[100,200,300],[400,500,600]],[[700,800,900],[150,250,350]]])\n",
        "print(xyz[0,1,2])"
      ],
      "metadata": {
        "colab": {
          "base_uri": "https://localhost:8080/"
        },
        "id": "5QS1JmVydPit",
        "outputId": "132a2b0f-7ed2-47c3-9860-8ce8533bcfba"
      },
      "execution_count": 9,
      "outputs": [
        {
          "output_type": "stream",
          "name": "stdout",
          "text": [
            "9\n",
            "600\n"
          ]
        }
      ]
    },
    {
      "cell_type": "code",
      "source": [
        "#data types\n",
        "#string\n",
        "arr = np.array([1,2,3,4],dtype = 'S')\n",
        "print(arr)\n",
        "print(arr.dtype)"
      ],
      "metadata": {
        "colab": {
          "base_uri": "https://localhost:8080/"
        },
        "id": "c81efpmid1Cy",
        "outputId": "2ee8583b-8942-4580-8682-874ea5498909"
      },
      "execution_count": 14,
      "outputs": [
        {
          "output_type": "stream",
          "name": "stdout",
          "text": [
            "[b'1' b'2' b'3' b'4']\n",
            "|S1\n"
          ]
        }
      ]
    },
    {
      "cell_type": "code",
      "source": [
        "#int\n",
        "arr = np.array([1,2,3,4],dtype = 'i')\n",
        "print(arr)\n",
        "print(arr.dtype)"
      ],
      "metadata": {
        "colab": {
          "base_uri": "https://localhost:8080/"
        },
        "id": "-l_RNOt7hCBz",
        "outputId": "4834a078-acd5-4791-8085-db7a26b87041"
      },
      "execution_count": 15,
      "outputs": [
        {
          "output_type": "stream",
          "name": "stdout",
          "text": [
            "[1 2 3 4]\n",
            "int32\n"
          ]
        }
      ]
    },
    {
      "cell_type": "code",
      "source": [
        "#float\n",
        "arr = np.array([1,2,3,4],dtype = 'f')\n",
        "print(arr)\n",
        "print(arr.dtype)"
      ],
      "metadata": {
        "colab": {
          "base_uri": "https://localhost:8080/"
        },
        "id": "WzgqzIuShK-Y",
        "outputId": "fc6f3806-bd21-454d-b0fd-1cc50de5cc73"
      },
      "execution_count": 16,
      "outputs": [
        {
          "output_type": "stream",
          "name": "stdout",
          "text": [
            "[1. 2. 3. 4.]\n",
            "float32\n"
          ]
        }
      ]
    },
    {
      "cell_type": "code",
      "source": [
        "#bool\n",
        "arr = np.array([1,2,3,4],dtype = 'b')\n",
        "print(arr)\n",
        "print(arr.dtype)"
      ],
      "metadata": {
        "colab": {
          "base_uri": "https://localhost:8080/"
        },
        "id": "q6_4TzAhhSIy",
        "outputId": "445b3e1d-c3f4-4d4f-9bad-3e451bdc05e4"
      },
      "execution_count": 21,
      "outputs": [
        {
          "output_type": "stream",
          "name": "stdout",
          "text": [
            "[1 2 3 4]\n",
            "int8\n"
          ]
        }
      ]
    },
    {
      "cell_type": "code",
      "source": [
        "#changing data type in array from float to int\n",
        "arr = np.array([[1.189,2.2679,3.098],[1.2334,3.876,7.876]])\n",
        "print(arr.astype('i'))\n",
        "print(arr.dtype)"
      ],
      "metadata": {
        "colab": {
          "base_uri": "https://localhost:8080/"
        },
        "id": "NGtUcShRhl-W",
        "outputId": "0f6cb2be-421a-4733-ec85-8133c46552b1"
      },
      "execution_count": 27,
      "outputs": [
        {
          "output_type": "stream",
          "name": "stdout",
          "text": [
            "[[1 2 3]\n",
            " [1 3 7]]\n",
            "float64\n"
          ]
        }
      ]
    },
    {
      "cell_type": "code",
      "source": [
        "#changing data type in array from int to bool\n",
        "arr = np.array([1,0,3])\n",
        "print(arr.astype('bool'))\n",
        "print(arr.dtype)"
      ],
      "metadata": {
        "colab": {
          "base_uri": "https://localhost:8080/"
        },
        "id": "KLqHwZ5wjclB",
        "outputId": "7411856d-c0e6-4d44-b794-e7254b8dfa7c"
      },
      "execution_count": 29,
      "outputs": [
        {
          "output_type": "stream",
          "name": "stdout",
          "text": [
            "[ True False  True]\n",
            "int64\n"
          ]
        }
      ]
    },
    {
      "cell_type": "code",
      "source": [
        "#copy()method\n",
        "arr = np.array([1,2,3,4,5])\n",
        "x = arr.copy()\n",
        "print(x)\n",
        "\n",
        "#replaces index position with another num\n",
        "arr[0] = 300\n",
        "print(arr)"
      ],
      "metadata": {
        "colab": {
          "base_uri": "https://localhost:8080/"
        },
        "id": "b2ty4-zOj_Qu",
        "outputId": "2c90a126-b088-4546-9216-923c8f2e39cd"
      },
      "execution_count": 32,
      "outputs": [
        {
          "output_type": "stream",
          "name": "stdout",
          "text": [
            "[1 2 3 4 5]\n",
            "[300   2   3   4   5]\n"
          ]
        }
      ]
    },
    {
      "cell_type": "code",
      "source": [
        "#view()\n",
        "#used to view the elements in the array\n",
        "\n",
        "arr = np.array([1,2,3,4,5])\n",
        "y = arr.view()\n",
        "print(y)\n",
        "\n",
        "#replacing another value\n",
        "arr[2] = 300\n",
        "print(y)\n",
        "print(arr)"
      ],
      "metadata": {
        "colab": {
          "base_uri": "https://localhost:8080/"
        },
        "id": "mojm1Nx_kpeN",
        "outputId": "513379ed-814a-4c65-8399-2eaf2d2188d6"
      },
      "execution_count": 35,
      "outputs": [
        {
          "output_type": "stream",
          "name": "stdout",
          "text": [
            "[1 2 3 4 5]\n",
            "[  1   2 300   4   5]\n",
            "[  1   2 300   4   5]\n"
          ]
        }
      ]
    },
    {
      "cell_type": "code",
      "source": [
        "#shape of an array\n",
        "\n",
        "arr = np.array([[1,2,3],[1,2,3]])\n",
        "print(arr)\n",
        "arr.shape"
      ],
      "metadata": {
        "colab": {
          "base_uri": "https://localhost:8080/"
        },
        "id": "kuxI23oXlPkU",
        "outputId": "df5d5145-84f8-4ac7-af3f-f746ddcee095"
      },
      "execution_count": 39,
      "outputs": [
        {
          "output_type": "stream",
          "name": "stdout",
          "text": [
            "[[1 2 3]\n",
            " [1 2 3]]\n"
          ]
        },
        {
          "output_type": "execute_result",
          "data": {
            "text/plain": [
              "(2, 3)"
            ]
          },
          "metadata": {},
          "execution_count": 39
        }
      ]
    },
    {
      "cell_type": "code",
      "source": [
        "##Reshaping of an array\n",
        "#converting 1D array to 2D\n",
        "arr = np.array([1,2,3,4,5,6])\n",
        "print(arr.reshape(2,3))\n",
        "print('***********************************')\n",
        "\n",
        "#converting 1d to 3d\n",
        "x = np.array([1,2,3,4,5,6,7,8])\n",
        "print(x.reshape(2,2,2))"
      ],
      "metadata": {
        "colab": {
          "base_uri": "https://localhost:8080/"
        },
        "id": "GOiGgWDRl2bP",
        "outputId": "82121d8e-5991-444e-f336-e1ffdba0ba5b"
      },
      "execution_count": 46,
      "outputs": [
        {
          "output_type": "stream",
          "name": "stdout",
          "text": [
            "[[1 2 3]\n",
            " [4 5 6]]\n",
            "***********************************\n",
            "[[[1 2]\n",
            "  [3 4]]\n",
            "\n",
            " [[5 6]\n",
            "  [7 8]]]\n"
          ]
        }
      ]
    },
    {
      "cell_type": "code",
      "source": [
        "y = np.array([1,2,3,4,5,6,7,8,9,10,11,12])\n",
        "print(y.reshape(2,1,6))"
      ],
      "metadata": {
        "colab": {
          "base_uri": "https://localhost:8080/"
        },
        "id": "CixpJKDWnX5B",
        "outputId": "ab3d029a-e38b-4bde-fc36-786ad4a7dece"
      },
      "execution_count": 54,
      "outputs": [
        {
          "output_type": "stream",
          "name": "stdout",
          "text": [
            "[[[ 1  2  3  4  5  6]]\n",
            "\n",
            " [[ 7  8  9 10 11 12]]]\n"
          ]
        }
      ]
    },
    {
      "cell_type": "code",
      "source": [
        "#To create a datatype object\n",
        "\n",
        "x = np.array([[1,2],[3,4]],dtype = np.float64)\n",
        "x"
      ],
      "metadata": {
        "colab": {
          "base_uri": "https://localhost:8080/"
        },
        "id": "p9s619nSskrS",
        "outputId": "9e6da13b-6852-4a45-f433-8f648d55b9be"
      },
      "execution_count": 57,
      "outputs": [
        {
          "output_type": "execute_result",
          "data": {
            "text/plain": [
              "array([[1., 2.],\n",
              "       [3., 4.]])"
            ]
          },
          "metadata": {},
          "execution_count": 57
        }
      ]
    },
    {
      "cell_type": "code",
      "source": [
        "#addition of two arrays\n",
        "x = np.array([[1,2],[3,4]])\n",
        "y = np.array([[5,6],[7,8]])\n",
        "print(np.add(x,y))\n"
      ],
      "metadata": {
        "colab": {
          "base_uri": "https://localhost:8080/"
        },
        "id": "SxZCwFi8tNuB",
        "outputId": "6f6b58aa-6cfd-4cae-c51a-6f8db3e53c3e"
      },
      "execution_count": 58,
      "outputs": [
        {
          "output_type": "stream",
          "name": "stdout",
          "text": [
            "[[ 6  8]\n",
            " [10 12]]\n"
          ]
        }
      ]
    },
    {
      "cell_type": "code",
      "source": [
        "#subtraction\n",
        "print(np.subtract(x,y))"
      ],
      "metadata": {
        "colab": {
          "base_uri": "https://localhost:8080/"
        },
        "id": "Qt5NHIeRt0k8",
        "outputId": "02dc40d7-debb-48e4-c698-2a1d7537d7a4"
      },
      "execution_count": 59,
      "outputs": [
        {
          "output_type": "stream",
          "name": "stdout",
          "text": [
            "[[-4 -4]\n",
            " [-4 -4]]\n"
          ]
        }
      ]
    },
    {
      "cell_type": "code",
      "source": [
        "#multiplication\n",
        "print(np.multiply(x,y))"
      ],
      "metadata": {
        "colab": {
          "base_uri": "https://localhost:8080/"
        },
        "id": "jQKAMDCvt_Gj",
        "outputId": "1cee9df4-552f-4f23-f096-87006c70db10"
      },
      "execution_count": 60,
      "outputs": [
        {
          "output_type": "stream",
          "name": "stdout",
          "text": [
            "[[ 5 12]\n",
            " [21 32]]\n"
          ]
        }
      ]
    },
    {
      "cell_type": "code",
      "source": [
        "#division\n",
        "print(np.divide(x,y))"
      ],
      "metadata": {
        "colab": {
          "base_uri": "https://localhost:8080/"
        },
        "id": "1fFhUC8ruFxl",
        "outputId": "b7187216-4a85-4cab-f822-6277d070db57"
      },
      "execution_count": 63,
      "outputs": [
        {
          "output_type": "stream",
          "name": "stdout",
          "text": [
            "[[0.2        0.33333333]\n",
            " [0.42857143 0.5       ]]\n"
          ]
        }
      ]
    },
    {
      "cell_type": "code",
      "source": [
        "#exponential\n",
        "print(np.exp(x))\n",
        "print(np.exp(y))"
      ],
      "metadata": {
        "colab": {
          "base_uri": "https://localhost:8080/"
        },
        "id": "PfaGT-T4ujuU",
        "outputId": "5168ebf3-51c4-4bbd-accf-30e1139a42c1"
      },
      "execution_count": 66,
      "outputs": [
        {
          "output_type": "stream",
          "name": "stdout",
          "text": [
            "[[ 2.71828183  7.3890561 ]\n",
            " [20.08553692 54.59815003]]\n",
            "[[ 148.4131591   403.42879349]\n",
            " [1096.63315843 2980.95798704]]\n"
          ]
        }
      ]
    },
    {
      "cell_type": "code",
      "source": [
        "#squareroot\n",
        "print(np.sqrt(x))\n",
        "print(np.sqrt(y))"
      ],
      "metadata": {
        "colab": {
          "base_uri": "https://localhost:8080/"
        },
        "id": "SMHrlQaUu7fT",
        "outputId": "56ff1972-4c70-417d-a918-2bcf1d80683f"
      },
      "execution_count": 68,
      "outputs": [
        {
          "output_type": "stream",
          "name": "stdout",
          "text": [
            "[[1.         1.41421356]\n",
            " [1.73205081 2.        ]]\n",
            "[[2.23606798 2.44948974]\n",
            " [2.64575131 2.82842712]]\n"
          ]
        }
      ]
    },
    {
      "cell_type": "code",
      "source": [
        "#sort()\n",
        "arr = np.array([9,8,3,2,1])\n",
        "print(np.sort(arr))"
      ],
      "metadata": {
        "colab": {
          "base_uri": "https://localhost:8080/"
        },
        "id": "5eSuUtJuwoC9",
        "outputId": "80f95598-ea9a-47f4-ff8f-443736cb187f"
      },
      "execution_count": 73,
      "outputs": [
        {
          "output_type": "stream",
          "name": "stdout",
          "text": [
            "[1 2 3 8 9]\n"
          ]
        }
      ]
    },
    {
      "cell_type": "code",
      "source": [
        "#slicing\n",
        "arr = np.array([1, 2, 3, 4, 5, 6, 7])\n",
        "print(arr[1:5])\n",
        "\n",
        "print(arr[5:])\n",
        "\n",
        "print(arr[:5])\n",
        "\n",
        "#negative\n",
        "arr = np.array([1, 2, 3, 4, 5, 6, 7])\n",
        "print(arr[:-1])\n",
        "\n",
        "print(arr[:-4])\n",
        "\n",
        "print(arr[-6:-4])"
      ],
      "metadata": {
        "colab": {
          "base_uri": "https://localhost:8080/"
        },
        "id": "1cjfFmXo2qJg",
        "outputId": "1a81d26d-062f-4ce2-b1ce-82f689273dbd"
      },
      "execution_count": 82,
      "outputs": [
        {
          "output_type": "stream",
          "name": "stdout",
          "text": [
            "[2 3 4 5]\n",
            "[6 7]\n",
            "[1 2 3 4 5]\n",
            "[1 2 3 4 5 6]\n",
            "[1 2 3]\n",
            "[2 3]\n"
          ]
        }
      ]
    }
  ]
}