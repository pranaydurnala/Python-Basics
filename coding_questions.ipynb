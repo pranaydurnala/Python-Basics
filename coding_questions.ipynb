{
  "nbformat": 4,
  "nbformat_minor": 0,
  "metadata": {
    "colab": {
      "provenance": [],
      "authorship_tag": "ABX9TyMf29oVH1tYzlen9cK8yv9m",
      "include_colab_link": true
    },
    "kernelspec": {
      "name": "python3",
      "display_name": "Python 3"
    },
    "language_info": {
      "name": "python"
    }
  },
  "cells": [
    {
      "cell_type": "markdown",
      "metadata": {
        "id": "view-in-github",
        "colab_type": "text"
      },
      "source": [
        "<a href=\"https://colab.research.google.com/github/pranaydurnala/Python-Basics/blob/main/coding_questions.ipynb\" target=\"_parent\"><img src=\"https://colab.research.google.com/assets/colab-badge.svg\" alt=\"Open In Colab\"/></a>"
      ]
    },
    {
      "cell_type": "code",
      "execution_count": null,
      "metadata": {
        "id": "qDVpr8mWdl-9",
        "colab": {
          "base_uri": "https://localhost:8080/"
        },
        "outputId": "5d19fe62-833a-44b1-e459-876fa9597bed"
      },
      "outputs": [
        {
          "output_type": "stream",
          "name": "stdout",
          "text": [
            "1 num is odd \n",
            "2 num is even \n",
            "3 num is odd \n",
            "4 num is even \n",
            "5 num is odd \n",
            "6 num is even \n",
            "7 num is odd \n",
            "8 num is even \n",
            "9 num is odd \n"
          ]
        }
      ],
      "source": [
        "numbers = [1,2,3,4,5,6,7,8,9]\n",
        "for num in numbers:\n",
        "  if num%2 == 0:\n",
        "    print(num,\"num is even \")\n",
        "  else:\n",
        "    print(num,\"num is odd \")"
      ]
    },
    {
      "cell_type": "code",
      "source": [
        "#factorial\n",
        "num = int(input(\"enter a number \"))\n",
        "factorial = 1\n",
        "if num < 0 :\n",
        "  print(\"cannot process operation\")\n",
        "elif num == 0:\n",
        "  print(f\"factorial of {num} is 1\")\n",
        "else:\n",
        "  for i in range(1, num + 1):\n",
        "    factorial = factorial * i\n",
        "  print(\"factorial is \",factorial)"
      ],
      "metadata": {
        "colab": {
          "base_uri": "https://localhost:8080/"
        },
        "id": "Dau_pB55P0FE",
        "outputId": "9edccbb8-bc41-4ec9-c9e1-fbf313550853"
      },
      "execution_count": null,
      "outputs": [
        {
          "output_type": "stream",
          "name": "stdout",
          "text": [
            "enter a number5\n",
            "factorial is  120\n"
          ]
        }
      ]
    },
    {
      "cell_type": "code",
      "source": [
        " #finding the given input  is palindrome or not\n",
        "\n",
        " string = input(\"enter any input \")\n",
        " if string == string[::-1]:\n",
        "  print(\"given input is palindrome\")\n",
        "else:\n",
        "  print(\"given input is not palindrome\")"
      ],
      "metadata": {
        "colab": {
          "base_uri": "https://localhost:8080/"
        },
        "id": "5WzOxj4FN6US",
        "outputId": "540245ec-3389-446f-efe1-bccb9a307562"
      },
      "execution_count": null,
      "outputs": [
        {
          "output_type": "stream",
          "name": "stdout",
          "text": [
            "enter any input 121\n",
            "given input is palindrome\n"
          ]
        }
      ]
    },
    {
      "cell_type": "code",
      "source": [
        "#finding the smallest of three numbers\n",
        "\n",
        "num1 = int(input(\"enter num1 \"))\n",
        "num2 = int(input(\"enter num2 \"))\n",
        "num3 = int(input(\"enter num1 \"))\n",
        "\n",
        "if num1<num2 and num1<num3:\n",
        "  print(\"num1 is smallest \",num1)\n",
        "elif num2<num1 and num2<num3:\n",
        "  print(\"num2 is smallest \",num2)\n",
        "else:\n",
        "  print(\"num3 is smallest \",num3)"
      ],
      "metadata": {
        "colab": {
          "base_uri": "https://localhost:8080/"
        },
        "id": "RcRT9mN9XBgJ",
        "outputId": "3b21dad3-f0cd-4375-de2c-590f331d4cff"
      },
      "execution_count": null,
      "outputs": [
        {
          "output_type": "stream",
          "name": "stdout",
          "text": [
            "enter num1 20\n",
            "enter num2 10\n",
            "enter num1 30\n",
            "num2 is smallest  10\n"
          ]
        }
      ]
    },
    {
      "cell_type": "code",
      "source": [
        "#max num in a list\n",
        "\n",
        "list1 = [20,30,20,10,30]\n",
        "max_num = max(list1)\n",
        "print(max_num)"
      ],
      "metadata": {
        "colab": {
          "base_uri": "https://localhost:8080/"
        },
        "id": "VvRkXuVJZIez",
        "outputId": "cda4d801-729a-48e0-ca83-b60adcd1c4b3"
      },
      "execution_count": null,
      "outputs": [
        {
          "output_type": "stream",
          "name": "stdout",
          "text": [
            "30\n"
          ]
        }
      ]
    },
    {
      "cell_type": "code",
      "source": [
        "#min num in a list\n",
        "\n",
        "list1 = [20,30,20,10,30]\n",
        "min_num = min(list1)\n",
        "print(min_num)"
      ],
      "metadata": {
        "colab": {
          "base_uri": "https://localhost:8080/"
        },
        "id": "GzkuQQHHaRXR",
        "outputId": "b3445ed1-de84-420d-f6c6-90979405f92e"
      },
      "execution_count": null,
      "outputs": [
        {
          "output_type": "stream",
          "name": "stdout",
          "text": [
            "10\n"
          ]
        }
      ]
    },
    {
      "cell_type": "code",
      "source": [
        "#reverse of a string\n",
        "\n",
        "str1 = \"pranay is a good boy\"\n",
        "print(str1[::-1])\n"
      ],
      "metadata": {
        "colab": {
          "base_uri": "https://localhost:8080/"
        },
        "id": "MEve-Jcvch4v",
        "outputId": "76b60dea-91c6-4bca-958d-07cc55c0fb53"
      },
      "execution_count": null,
      "outputs": [
        {
          "output_type": "stream",
          "name": "stdout",
          "text": [
            "yob doog a si yanarp\n"
          ]
        }
      ]
    },
    {
      "cell_type": "code",
      "source": [
        "# count vowels in input\n",
        "\n",
        "word1 = (input(\"enter a word  \"))\n",
        "string = word1.lower()\n",
        "vowels = \"aeiou\"\n",
        "\n",
        "count = 0\n",
        "\n",
        "for i in word1:\n",
        "  if i in vowels:\n",
        "    count = count + 1\n",
        "print(\"count of vowels in given word \",count)\n"
      ],
      "metadata": {
        "colab": {
          "base_uri": "https://localhost:8080/"
        },
        "id": "fA24fTCj5T52",
        "outputId": "17088e13-8444-4ca3-f87d-a225dc83dab9"
      },
      "execution_count": null,
      "outputs": [
        {
          "output_type": "stream",
          "name": "stdout",
          "text": [
            "enter a word  hello\n",
            "count of vowels in given word  2\n"
          ]
        }
      ]
    },
    {
      "cell_type": "code",
      "source": [
        "#frequency of each value in list\n",
        "\n",
        "my_list = [1, 2, 3, 3, 4, 4, 4, 4]\n",
        "frequency = {}\n",
        "\n",
        "for i in my_list:\n",
        "  if i in frequency:\n",
        "    frequency[i] += 1\n",
        "  else:\n",
        "    frequency[i] = 1\n",
        "print(frequency)"
      ],
      "metadata": {
        "colab": {
          "base_uri": "https://localhost:8080/"
        },
        "id": "NVzyMePseXJj",
        "outputId": "7b8b480c-cc27-4c9d-ccd0-67c5f68a102a"
      },
      "execution_count": null,
      "outputs": [
        {
          "output_type": "stream",
          "name": "stdout",
          "text": [
            "{1: 1, 2: 1, 3: 2, 4: 4}\n"
          ]
        }
      ]
    },
    {
      "cell_type": "code",
      "source": [
        "#remove duplicates from list\n",
        "\n",
        "list2 = [20,30,20,10,20,30]\n",
        "print(set(list2))"
      ],
      "metadata": {
        "colab": {
          "base_uri": "https://localhost:8080/"
        },
        "id": "suoIDeW9fQb2",
        "outputId": "3fd9d0e1-78fe-42ab-c454-f64de67c2bfe"
      },
      "execution_count": null,
      "outputs": [
        {
          "output_type": "stream",
          "name": "stdout",
          "text": [
            "{10, 20, 30}\n"
          ]
        }
      ]
    },
    {
      "cell_type": "code",
      "source": [
        "#copy string\n",
        "str1 = \"pranay is a good boy\"\n",
        "str2 = str1\n",
        "print(str2)"
      ],
      "metadata": {
        "id": "pe2il5lyh5ZK",
        "colab": {
          "base_uri": "https://localhost:8080/"
        },
        "outputId": "0264a3d2-043a-418a-e6c0-8e087c8f192d"
      },
      "execution_count": null,
      "outputs": [
        {
          "output_type": "stream",
          "name": "stdout",
          "text": [
            "pranay is a good boy\n"
          ]
        }
      ]
    },
    {
      "cell_type": "code",
      "source": [
        "x = 10\n",
        "y = 8\n",
        "\n",
        "x, y = y,x\n",
        "\n",
        "print(\"value of x \",x)\n",
        "print(\"value of y\",y)"
      ],
      "metadata": {
        "colab": {
          "base_uri": "https://localhost:8080/"
        },
        "id": "aSeJkhbEQgRH",
        "outputId": "0d812d16-ba54-4b50-a35a-bbeee2a786d2"
      },
      "execution_count": null,
      "outputs": [
        {
          "output_type": "stream",
          "name": "stdout",
          "text": [
            "value of x  8\n",
            "value of y 10\n"
          ]
        }
      ]
    },
    {
      "cell_type": "code",
      "source": [
        "#num is prime or not\n",
        "\n",
        "num = int(input(\"enter a number \"))\n",
        "for i in range(2,num):\n",
        "  if num % i == 0:\n",
        "    print('Not Prime')\n",
        "else:\n",
        " print(\"Prime\")"
      ],
      "metadata": {
        "colab": {
          "base_uri": "https://localhost:8080/"
        },
        "id": "FW_w8tMZIyWa",
        "outputId": "1f588cb8-426c-463c-a112-8d1fe09e057c"
      },
      "execution_count": null,
      "outputs": [
        {
          "output_type": "stream",
          "name": "stdout",
          "text": [
            "enter a number 11\n",
            "Prime\n"
          ]
        }
      ]
    },
    {
      "cell_type": "code",
      "source": [
        "#taking common elements from 2 lists\n",
        "\n",
        "list1 = [10,20,30,80,1,2,3]\n",
        "list2 = [10,70,55,2,20]\n",
        "\n",
        "set1 = set(list1)\n",
        "set2 = set(list2)\n",
        "\n",
        "common_elements = set1 & set2\n",
        "print(common_elements)"
      ],
      "metadata": {
        "colab": {
          "base_uri": "https://localhost:8080/"
        },
        "id": "i3b8QnfcfhlK",
        "outputId": "f5b2d66c-568f-4601-8685-96b1b9eb425d"
      },
      "execution_count": null,
      "outputs": [
        {
          "output_type": "stream",
          "name": "stdout",
          "text": [
            "{2, 10, 20}\n"
          ]
        }
      ]
    },
    {
      "cell_type": "code",
      "source": [
        "#second largest num in a list\n",
        "\n",
        "list1 = [10,20,30,80,1,2,3]\n",
        "list1.sort()\n",
        "print(f\"second largest number is \",{list1[-2 ]})"
      ],
      "metadata": {
        "colab": {
          "base_uri": "https://localhost:8080/"
        },
        "id": "SKXHSPDJl6U7",
        "outputId": "8a0c0701-5496-451b-98da-ef5300442d6d"
      },
      "execution_count": null,
      "outputs": [
        {
          "output_type": "stream",
          "name": "stdout",
          "text": [
            "second largest number is  {30}\n"
          ]
        }
      ]
    },
    {
      "cell_type": "code",
      "source": [
        "#finding the largest of three numbers\n",
        "\n",
        "num1 = int(input(\"enter num1 \"))\n",
        "num2 = int(input(\"enter num2 \"))\n",
        "num3 = int(input(\"enter num1 \"))\n",
        "\n",
        "if num1>num2 and num1>num3:\n",
        "  print(\"num1 is largest \",num1)\n",
        "elif num2>num1 and num2>num3:\n",
        "  print(\"num2 is largest \",num2)\n",
        "else:\n",
        "  print(\"num3 is larg3est \",num3)"
      ],
      "metadata": {
        "colab": {
          "base_uri": "https://localhost:8080/"
        },
        "id": "8y6QoruOp89B",
        "outputId": "f8d976c2-4a68-4c54-df57-0b1141321656"
      },
      "execution_count": null,
      "outputs": [
        {
          "output_type": "stream",
          "name": "stdout",
          "text": [
            "enter num1 10\n",
            "enter num2 20\n",
            "enter num1 0\n",
            "num2 is largest  20\n"
          ]
        }
      ]
    },
    {
      "cell_type": "code",
      "source": [
        "strng = \"iam a good boy\"\n",
        "res = ''.join(sorted(strng))\n",
        "print(res)"
      ],
      "metadata": {
        "id": "9TfUbd3-lNS7",
        "colab": {
          "base_uri": "https://localhost:8080/"
        },
        "outputId": "a7203db1-e20b-44e6-af66-52b345450646"
      },
      "execution_count": null,
      "outputs": [
        {
          "output_type": "stream",
          "name": "stdout",
          "text": [
            "   aabdgimoooy\n"
          ]
        }
      ]
    }
  ]
}