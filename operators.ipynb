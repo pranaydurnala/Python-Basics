{
  "nbformat": 4,
  "nbformat_minor": 0,
  "metadata": {
    "colab": {
      "provenance": [],
      "authorship_tag": "ABX9TyOLQYfhhqHfX79vqETvudW5",
      "include_colab_link": true
    },
    "kernelspec": {
      "name": "python3",
      "display_name": "Python 3"
    },
    "language_info": {
      "name": "python"
    }
  },
  "cells": [
    {
      "cell_type": "markdown",
      "metadata": {
        "id": "view-in-github",
        "colab_type": "text"
      },
      "source": [
        "<a href=\"https://colab.research.google.com/github/pranaydurnala/Python-Basics/blob/main/operators.ipynb\" target=\"_parent\"><img src=\"https://colab.research.google.com/assets/colab-badge.svg\" alt=\"Open In Colab\"/></a>"
      ]
    },
    {
      "cell_type": "code",
      "source": [
        "#arthmetic operators\n",
        "a = 5\n",
        "b = 9\n",
        "#addition\n",
        "c = a + b\n",
        "print(c)\n",
        "#subtraction\n",
        "c = a - b\n",
        "print(c)\n",
        "#multiplication\n",
        "c = a * b\n",
        "print(c)\n",
        "#division\n",
        "c = a / b\n",
        "print(c)\n",
        "#modulus\n",
        "c = a % b\n",
        "print(c)\n",
        "#exponentiation\n",
        "c = a ** b\n",
        "print(c)\n",
        "#floor division\n",
        "c = a // b\n",
        "print(c)"
      ],
      "metadata": {
        "id": "Oh3ionQ8wY9b",
        "colab": {
          "base_uri": "https://localhost:8080/"
        },
        "outputId": "d55c63e6-e04f-4e11-83e9-5c46a78b6675"
      },
      "execution_count": 2,
      "outputs": [
        {
          "output_type": "stream",
          "name": "stdout",
          "text": [
            "14\n",
            "-4\n",
            "45\n",
            "0.5555555555555556\n",
            "5\n",
            "1953125\n",
            "0\n"
          ]
        }
      ]
    },
    {
      "cell_type": "code",
      "source": [
        "from re import L\n",
        "#ASSIGNMENT OPERATORS\n",
        "#addition assignment\n",
        "a = 18\n",
        "b = 14\n",
        "a += b\n",
        "print(a)\n",
        "#substraction assignment\n",
        "x = 10\n",
        "y = 2\n",
        "x -= y\n",
        "print(x)\n",
        "#multiplication assignment\n",
        "r = 12\n",
        "s = 4\n",
        "r *= s\n",
        "print(r)\n",
        "#division assignment\n",
        "p = 13\n",
        "q = 9\n",
        "p /= q\n",
        "print(p)\n",
        "#modulus assignment\n",
        "k = 19\n",
        "l = 6\n",
        "k %= l\n",
        "print(k)\n",
        "#floor assignment\n",
        "o = 17\n",
        "d = 13\n",
        "o //= d\n",
        "print(o)"
      ],
      "metadata": {
        "colab": {
          "base_uri": "https://localhost:8080/"
        },
        "id": "ecHElqvFwwl4",
        "outputId": "6a99cc93-39cf-4fe2-de05-6e3743d6a4ca"
      },
      "execution_count": 5,
      "outputs": [
        {
          "output_type": "stream",
          "name": "stdout",
          "text": [
            "32\n",
            "8\n",
            "48\n",
            "1.4444444444444444\n",
            "1\n",
            "1\n"
          ]
        }
      ]
    },
    {
      "cell_type": "code",
      "source": [
        "#COMPARISION OPERATORS\n",
        "#equal to\n",
        "x = 70\n",
        "y = 80\n",
        "z = 90\n",
        "print(x == y)\n",
        "print(x == z)\n",
        "#not equal to\n",
        "print(x != y)\n",
        "print(x != z)\n",
        "#greater than\n",
        "print(x > y)\n",
        "print(x > z)\n",
        "#less than\n",
        "print(x < y)\n",
        "print(y < x)\n",
        "#greater than or equal to\n",
        "print(x >= y)\n",
        "print(z >= x)\n",
        "#less than or equal to\n",
        "print(x <= y)\n",
        "print(y <= z)"
      ],
      "metadata": {
        "colab": {
          "base_uri": "https://localhost:8080/"
        },
        "id": "Pj0_KzVTxqWE",
        "outputId": "5cd8eb59-b508-41f8-ae15-3d51323ed4d4"
      },
      "execution_count": 6,
      "outputs": [
        {
          "output_type": "stream",
          "name": "stdout",
          "text": [
            "False\n",
            "False\n",
            "True\n",
            "True\n",
            "False\n",
            "False\n",
            "True\n",
            "False\n",
            "False\n",
            "True\n",
            "True\n",
            "True\n"
          ]
        }
      ]
    },
    {
      "cell_type": "code",
      "source": [
        "#LOGICAL OPERATORS\n",
        "a = 19\n",
        "b = 30\n",
        "#and operator\n",
        "print(a > b and b < a)\n",
        "print(a < b and b > a)\n",
        "#or operator\n",
        "print(a > b or b > a)\n",
        "print(a > b or b < a)\n",
        "#not operation\n",
        "print(not(a > b or b > a))\n",
        "print(not(a < b and b < a))"
      ],
      "metadata": {
        "colab": {
          "base_uri": "https://localhost:8080/"
        },
        "id": "8v-SyCsyx90t",
        "outputId": "b6e15b42-8f76-44c4-c063-60eecddd5ab4"
      },
      "execution_count": 7,
      "outputs": [
        {
          "output_type": "stream",
          "name": "stdout",
          "text": [
            "False\n",
            "True\n",
            "True\n",
            "False\n",
            "False\n",
            "True\n"
          ]
        }
      ]
    },
    {
      "cell_type": "code",
      "source": [
        "#identity operators\n",
        "name1 = 5\n",
        "name2 = 8\n",
        "print(name1 is name2)\n",
        "print(name1 is not name2)\n",
        "\n",
        "elder = 'pranay'\n",
        "younger = 'nandha'\n",
        "print(elder is younger)\n",
        "print(elder is not younger)\n",
        "\n",
        "age1 = 8\n",
        "age2 = 8\n",
        "print(age1 is age2)\n",
        "print(age1 is not age2)"
      ],
      "metadata": {
        "colab": {
          "base_uri": "https://localhost:8080/"
        },
        "id": "xsT4_D7VyGlc",
        "outputId": "51ca65ae-049c-483a-c6ec-3b845aa1668e"
      },
      "execution_count": 10,
      "outputs": [
        {
          "output_type": "stream",
          "name": "stdout",
          "text": [
            "False\n",
            "True\n",
            "False\n",
            "True\n",
            "True\n",
            "False\n"
          ]
        }
      ]
    },
    {
      "cell_type": "code",
      "source": [
        "#membership operators\n",
        "\n",
        "list1 = 1,2,3,4,5,8\n",
        "list2 = 51,72,90,56,34,22\n",
        "\n",
        "print(5 in list1)\n",
        "print(51 in list1)\n",
        "print(1 not in list2)\n",
        "print(90 not in list2)\n",
        "print(56 in list2)\n"
      ],
      "metadata": {
        "colab": {
          "base_uri": "https://localhost:8080/"
        },
        "id": "436sQfzlzTtj",
        "outputId": "d0bcc5ef-d150-473c-82e4-4e2a721d87ba"
      },
      "execution_count": 12,
      "outputs": [
        {
          "output_type": "stream",
          "name": "stdout",
          "text": [
            "True\n",
            "False\n",
            "True\n",
            "False\n",
            "True\n"
          ]
        }
      ]
    },
    {
      "cell_type": "code",
      "source": [],
      "metadata": {
        "id": "zsS-v8jh0MKL"
      },
      "execution_count": null,
      "outputs": []
    }
  ]
}