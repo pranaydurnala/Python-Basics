{
  "nbformat": 4,
  "nbformat_minor": 0,
  "metadata": {
    "colab": {
      "provenance": [],
      "gpuType": "T4",
      "authorship_tag": "ABX9TyOQV6mMDwRR8UOS/C5rHs2g",
      "include_colab_link": true
    },
    "kernelspec": {
      "name": "python3",
      "display_name": "Python 3"
    },
    "language_info": {
      "name": "python"
    },
    "accelerator": "GPU"
  },
  "cells": [
    {
      "cell_type": "markdown",
      "metadata": {
        "id": "view-in-github",
        "colab_type": "text"
      },
      "source": [
        "<a href=\"https://colab.research.google.com/github/pranaydurnala/Python-Basics/blob/main/variables.ipynb\" target=\"_parent\"><img src=\"https://colab.research.google.com/assets/colab-badge.svg\" alt=\"Open In Colab\"/></a>"
      ]
    },
    {
      "cell_type": "code",
      "execution_count": null,
      "metadata": {
        "colab": {
          "base_uri": "https://localhost:8080/"
        },
        "id": "UHG4vE5aoaBe",
        "outputId": "89213301-63dc-43f6-d223-ab7f4f0a13cb"
      },
      "outputs": [
        {
          "output_type": "stream",
          "name": "stdout",
          "text": [
            "27\n"
          ]
        }
      ],
      "source": [
        "pranay_birth_date = 27\n",
        "print(pranay_birth_date)\n"
      ]
    },
    {
      "cell_type": "code",
      "source": [
        "pranay_phonenumber = 9870679211\n",
        "print(pranay_phonenumber)"
      ],
      "metadata": {
        "colab": {
          "base_uri": "https://localhost:8080/"
        },
        "id": "0lgtYxnspm4i",
        "outputId": "cbee987b-db83-4135-c75a-a5541e71a6c3"
      },
      "execution_count": null,
      "outputs": [
        {
          "output_type": "stream",
          "name": "stdout",
          "text": [
            "9870679211\n"
          ]
        }
      ]
    },
    {
      "cell_type": "code",
      "source": [
        "Pranay_alternatenumber = 9876543210\n",
        "print(Pranay_alternatenumber)"
      ],
      "metadata": {
        "colab": {
          "base_uri": "https://localhost:8080/"
        },
        "id": "1UWPEZ6cqo8T",
        "outputId": "df50b7a9-c5f4-4c7a-b818-57b796868a42"
      },
      "execution_count": null,
      "outputs": [
        {
          "output_type": "stream",
          "name": "stdout",
          "text": [
            "9876543210\n"
          ]
        }
      ]
    },
    {
      "cell_type": "code",
      "source": [
        "pranay_birthyear = 2002\n",
        "print(pranay_birthyear)"
      ],
      "metadata": {
        "colab": {
          "base_uri": "https://localhost:8080/"
        },
        "id": "FEmNjzFErfNW",
        "outputId": "efedc165-482f-4314-ad84-61dc9411c196"
      },
      "execution_count": null,
      "outputs": [
        {
          "output_type": "stream",
          "name": "stdout",
          "text": [
            "2002\n"
          ]
        }
      ]
    },
    {
      "cell_type": "code",
      "source": [
        "PRanay_birthyear = 2003\n",
        "print(PRanay_birthyear)"
      ],
      "metadata": {
        "colab": {
          "base_uri": "https://localhost:8080/"
        },
        "id": "272Mlzt_sJv8",
        "outputId": "e9f032f9-8239-4025-8c2e-1a9cc6828ab3"
      },
      "execution_count": null,
      "outputs": [
        {
          "output_type": "stream",
          "name": "stdout",
          "text": [
            "2003\n"
          ]
        }
      ]
    },
    {
      "cell_type": "code",
      "source": [
        "#variable can be in alpha numeric\n",
        "teks7 = 28\n",
        "print(teks7)"
      ],
      "metadata": {
        "colab": {
          "base_uri": "https://localhost:8080/"
        },
        "id": "ZyfoBl3JunzI",
        "outputId": "3919eeff-a609-4fd6-8280-2100bfe0213c"
      },
      "execution_count": null,
      "outputs": [
        {
          "output_type": "stream",
          "name": "stdout",
          "text": [
            "28\n"
          ]
        }
      ]
    },
    {
      "cell_type": "code",
      "source": [
        "abc = 123\n",
        "print(abc)"
      ],
      "metadata": {
        "id": "OwZZCbrU0tqN",
        "outputId": "633e04f8-3f49-4e1f-d73f-e9f1b3556614",
        "colab": {
          "base_uri": "https://localhost:8080/"
        }
      },
      "execution_count": null,
      "outputs": [
        {
          "output_type": "stream",
          "name": "stdout",
          "text": [
            "123\n"
          ]
        }
      ]
    },
    {
      "cell_type": "code",
      "source": [
        "ABC = 123\n",
        "abc = 345\n",
        "print(ABC,abc)"
      ],
      "metadata": {
        "id": "YAjko3lv0yED",
        "outputId": "476fbf9c-0177-49ae-ddc3-13cfa148395c",
        "colab": {
          "base_uri": "https://localhost:8080/"
        }
      },
      "execution_count": null,
      "outputs": [
        {
          "output_type": "stream",
          "name": "stdout",
          "text": [
            "123 345\n"
          ]
        }
      ]
    },
    {
      "cell_type": "code",
      "source": [
        "a = ()\n",
        "b = ()\n",
        "c = ()\n",
        "\n",
        "print(a,b,c)"
      ],
      "metadata": {
        "id": "PVUxN-_k1GQv",
        "outputId": "15631e57-fcf9-4625-a72d-7c28f69d80c6",
        "colab": {
          "base_uri": "https://localhost:8080/"
        }
      },
      "execution_count": null,
      "outputs": [
        {
          "output_type": "stream",
          "name": "stdout",
          "text": [
            "() () ()\n"
          ]
        }
      ]
    },
    {
      "cell_type": "code",
      "source": [
        "pranay_age = 22\n",
        "kittu_age = 25\n",
        "pranayreddy_age = -26\n",
        "\n",
        "print(pranay_age,kittu_age,pranayreddy_age)"
      ],
      "metadata": {
        "id": "-rpTS8ba09RH",
        "outputId": "ed70a275-1455-48e5-d4ba-cde3abd594d0",
        "colab": {
          "base_uri": "https://localhost:8080/"
        }
      },
      "execution_count": null,
      "outputs": [
        {
          "output_type": "stream",
          "name": "stdout",
          "text": [
            "22 25 -26\n"
          ]
        }
      ]
    }
  ]
}